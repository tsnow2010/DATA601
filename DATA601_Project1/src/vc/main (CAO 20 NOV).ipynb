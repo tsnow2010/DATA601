{
  "cells": [
    {
      "cell_type": "markdown",
      "id": "0d62f5ab-abd4-4bc0-9230-c080f475d466",
      "metadata": {
        "id": "0d62f5ab-abd4-4bc0-9230-c080f475d466"
      },
      "source": [
        "# DATA 601 Project\n",
        "    Domestic Movie Analysis from 1972-2023 – Have Domestic Films Gotten Worse?\n",
        "    \n",
        "#### By:\n",
        "* Brian Englum\n",
        "* Tyler Snow\n",
        "* Joel Wheatley\n",
        "* Kumar Pasupuleti\n",
        "\n",
        "> **Purpose:**\n",
        "> * Many movie fans and film critics believe that U.S. domestic movies have deteriorated in quality over time. Classic blockbusters like \"The Godfather,\" \"The Terminator,\" the Star Wars Episodes IV-VI seem to be a thing of the past. Studios and producers appear to be more interested in making animations; plot-absent, visually entertaining films; and never-ending sequels than making truly original, creative films.\n",
        "> * Although viewers and critics may feel this way, little research has been done on the topic.\n",
        "> * The goal of this project is to use statistical analysis and data science tools to explore this topic and come to a conclusion, one way or another.  "
      ]
    },
    {
      "cell_type": "code",
      "source": [],
      "metadata": {
        "id": "8w_7baq-jaNn"
      },
      "id": "8w_7baq-jaNn",
      "execution_count": 137,
      "outputs": []
    },
    {
      "cell_type": "markdown",
      "id": "9547b396-fd2c-4ee1-9457-a970d6b1fb94",
      "metadata": {
        "id": "9547b396-fd2c-4ee1-9457-a970d6b1fb94"
      },
      "source": [
        "## First Steps"
      ]
    },
    {
      "cell_type": "code",
      "execution_count": 138,
      "id": "f3411ae9-d931-4114-822e-769eff773ae4",
      "metadata": {
        "id": "f3411ae9-d931-4114-822e-769eff773ae4"
      },
      "outputs": [],
      "source": [
        "# Imports\n",
        "import pandas as pd\n",
        "import csv\n",
        "import numpy as np\n",
        "import plotly.express as px\n",
        "import re\n",
        "import os\n",
        "import matplotlib.pyplot as plt\n",
        "import seaborn as sns"
      ]
    },
    {
      "cell_type": "code",
      "execution_count": 139,
      "id": "3e35740c-ef46-459f-b061-4abe3a518956",
      "metadata": {
        "id": "3e35740c-ef46-459f-b061-4abe3a518956"
      },
      "outputs": [],
      "source": [
        "# Prevent warning messages from appearing.\n",
        "import warnings\n",
        "warnings.filterwarnings(\"ignore\")"
      ]
    },
    {
      "cell_type": "code",
      "execution_count": 140,
      "id": "070e95da-969e-4c8e-8415-06ced3b975d7",
      "metadata": {
        "colab": {
          "base_uri": "https://localhost:8080/",
          "height": 240
        },
        "id": "070e95da-969e-4c8e-8415-06ced3b975d7",
        "outputId": "9dab34b4-0fe4-4163-84f7-d14ef37c7996"
      },
      "outputs": [
        {
          "output_type": "stream",
          "name": "stdout",
          "text": [
            "This dataset has 16328 movies.\n"
          ]
        },
        {
          "output_type": "execute_result",
          "data": {
            "text/plain": [
              "              Title    Year               Genre(s)  IMDB Rotten Tomatoes  \\\n",
              "10690  Holiday Rush  2019.0  Comedy, Drama, Family   5.0              40   \n",
              "\n",
              "       Metacritic  TMDB # of IMDB Votes    # of Awards  \\\n",
              "10690         NaN   5.6           3,192  3 nominations   \n",
              "\n",
              "      Gross Domestic Box Office Sales ($)  Media     Directors         Origin  \n",
              "10690                                 NaN  movie  Leslie Small  United States  "
            ],
            "text/html": [
              "\n",
              "  <div id=\"df-9fa6f0af-91eb-4069-a165-33ba4b58926b\" class=\"colab-df-container\">\n",
              "    <div>\n",
              "<style scoped>\n",
              "    .dataframe tbody tr th:only-of-type {\n",
              "        vertical-align: middle;\n",
              "    }\n",
              "\n",
              "    .dataframe tbody tr th {\n",
              "        vertical-align: top;\n",
              "    }\n",
              "\n",
              "    .dataframe thead th {\n",
              "        text-align: right;\n",
              "    }\n",
              "</style>\n",
              "<table border=\"1\" class=\"dataframe\">\n",
              "  <thead>\n",
              "    <tr style=\"text-align: right;\">\n",
              "      <th></th>\n",
              "      <th>Title</th>\n",
              "      <th>Year</th>\n",
              "      <th>Genre(s)</th>\n",
              "      <th>IMDB</th>\n",
              "      <th>Rotten Tomatoes</th>\n",
              "      <th>Metacritic</th>\n",
              "      <th>TMDB</th>\n",
              "      <th># of IMDB Votes</th>\n",
              "      <th># of Awards</th>\n",
              "      <th>Gross Domestic Box Office Sales ($)</th>\n",
              "      <th>Media</th>\n",
              "      <th>Directors</th>\n",
              "      <th>Origin</th>\n",
              "    </tr>\n",
              "  </thead>\n",
              "  <tbody>\n",
              "    <tr>\n",
              "      <th>10690</th>\n",
              "      <td>Holiday Rush</td>\n",
              "      <td>2019.0</td>\n",
              "      <td>Comedy, Drama, Family</td>\n",
              "      <td>5.0</td>\n",
              "      <td>40</td>\n",
              "      <td>NaN</td>\n",
              "      <td>5.6</td>\n",
              "      <td>3,192</td>\n",
              "      <td>3 nominations</td>\n",
              "      <td>NaN</td>\n",
              "      <td>movie</td>\n",
              "      <td>Leslie Small</td>\n",
              "      <td>United States</td>\n",
              "    </tr>\n",
              "  </tbody>\n",
              "</table>\n",
              "</div>\n",
              "    <div class=\"colab-df-buttons\">\n",
              "\n",
              "  <div class=\"colab-df-container\">\n",
              "    <button class=\"colab-df-convert\" onclick=\"convertToInteractive('df-9fa6f0af-91eb-4069-a165-33ba4b58926b')\"\n",
              "            title=\"Convert this dataframe to an interactive table.\"\n",
              "            style=\"display:none;\">\n",
              "\n",
              "  <svg xmlns=\"http://www.w3.org/2000/svg\" height=\"24px\" viewBox=\"0 -960 960 960\">\n",
              "    <path d=\"M120-120v-720h720v720H120Zm60-500h600v-160H180v160Zm220 220h160v-160H400v160Zm0 220h160v-160H400v160ZM180-400h160v-160H180v160Zm440 0h160v-160H620v160ZM180-180h160v-160H180v160Zm440 0h160v-160H620v160Z\"/>\n",
              "  </svg>\n",
              "    </button>\n",
              "\n",
              "  <style>\n",
              "    .colab-df-container {\n",
              "      display:flex;\n",
              "      gap: 12px;\n",
              "    }\n",
              "\n",
              "    .colab-df-convert {\n",
              "      background-color: #E8F0FE;\n",
              "      border: none;\n",
              "      border-radius: 50%;\n",
              "      cursor: pointer;\n",
              "      display: none;\n",
              "      fill: #1967D2;\n",
              "      height: 32px;\n",
              "      padding: 0 0 0 0;\n",
              "      width: 32px;\n",
              "    }\n",
              "\n",
              "    .colab-df-convert:hover {\n",
              "      background-color: #E2EBFA;\n",
              "      box-shadow: 0px 1px 2px rgba(60, 64, 67, 0.3), 0px 1px 3px 1px rgba(60, 64, 67, 0.15);\n",
              "      fill: #174EA6;\n",
              "    }\n",
              "\n",
              "    .colab-df-buttons div {\n",
              "      margin-bottom: 4px;\n",
              "    }\n",
              "\n",
              "    [theme=dark] .colab-df-convert {\n",
              "      background-color: #3B4455;\n",
              "      fill: #D2E3FC;\n",
              "    }\n",
              "\n",
              "    [theme=dark] .colab-df-convert:hover {\n",
              "      background-color: #434B5C;\n",
              "      box-shadow: 0px 1px 3px 1px rgba(0, 0, 0, 0.15);\n",
              "      filter: drop-shadow(0px 1px 2px rgba(0, 0, 0, 0.3));\n",
              "      fill: #FFFFFF;\n",
              "    }\n",
              "  </style>\n",
              "\n",
              "    <script>\n",
              "      const buttonEl =\n",
              "        document.querySelector('#df-9fa6f0af-91eb-4069-a165-33ba4b58926b button.colab-df-convert');\n",
              "      buttonEl.style.display =\n",
              "        google.colab.kernel.accessAllowed ? 'block' : 'none';\n",
              "\n",
              "      async function convertToInteractive(key) {\n",
              "        const element = document.querySelector('#df-9fa6f0af-91eb-4069-a165-33ba4b58926b');\n",
              "        const dataTable =\n",
              "          await google.colab.kernel.invokeFunction('convertToInteractive',\n",
              "                                                    [key], {});\n",
              "        if (!dataTable) return;\n",
              "\n",
              "        const docLinkHtml = 'Like what you see? Visit the ' +\n",
              "          '<a target=\"_blank\" href=https://colab.research.google.com/notebooks/data_table.ipynb>data table notebook</a>'\n",
              "          + ' to learn more about interactive tables.';\n",
              "        element.innerHTML = '';\n",
              "        dataTable['output_type'] = 'display_data';\n",
              "        await google.colab.output.renderOutput(dataTable, element);\n",
              "        const docLink = document.createElement('div');\n",
              "        docLink.innerHTML = docLinkHtml;\n",
              "        element.appendChild(docLink);\n",
              "      }\n",
              "    </script>\n",
              "  </div>\n",
              "\n",
              "\n",
              "    </div>\n",
              "  </div>\n"
            ],
            "application/vnd.google.colaboratory.intrinsic+json": {
              "type": "dataframe",
              "repr_error": "0"
            }
          },
          "metadata": {},
          "execution_count": 140
        }
      ],
      "source": [
        "# Create initial DataFrame from movie_data.csv\n",
        "df = pd.read_csv('https://raw.githubusercontent.com/tsnow2010/DATA601/refs/heads/main/DATA601_Project1/data/movie_data.csv')\n",
        "print(f'This dataset has {df.shape[0]} movies.' )\n",
        "df.sample(1)"
      ]
    },
    {
      "cell_type": "markdown",
      "id": "58bd0522-9dea-44df-96dd-c9d4a904dda5",
      "metadata": {
        "id": "58bd0522-9dea-44df-96dd-c9d4a904dda5"
      },
      "source": [
        "## I: Data Cleaning"
      ]
    },
    {
      "cell_type": "markdown",
      "id": "4f03163f-aa04-4b5a-87fb-7b131817d462",
      "metadata": {
        "id": "4f03163f-aa04-4b5a-87fb-7b131817d462"
      },
      "source": [
        "### Step 1) Restrict years used from 1972 to 2023.  Extreme outliers or no data exists for movies outside these ranges."
      ]
    },
    {
      "cell_type": "code",
      "execution_count": 141,
      "id": "743d1c4b-4be1-40c7-872e-f620e2419967",
      "metadata": {
        "id": "743d1c4b-4be1-40c7-872e-f620e2419967"
      },
      "outputs": [],
      "source": [
        "df = df[(df['Year'] >= 1972.0) & (df['Year'] <= 2023.0)]"
      ]
    },
    {
      "cell_type": "markdown",
      "id": "a5b3272c-7c96-4076-a9b3-d9027f787c0d",
      "metadata": {
        "id": "a5b3272c-7c96-4076-a9b3-d9027f787c0d"
      },
      "source": [
        "### Step 2) Remove '$' and ',' char's from the GDBOS column values and turns them into <<float>>."
      ]
    },
    {
      "cell_type": "code",
      "execution_count": 142,
      "id": "52ca798a-ad27-4ae4-b445-df7d7bdbae73",
      "metadata": {
        "colab": {
          "base_uri": "https://localhost:8080/",
          "height": 239
        },
        "id": "52ca798a-ad27-4ae4-b445-df7d7bdbae73",
        "outputId": "3a3e13c2-1c31-4657-9968-590c4d02624f"
      },
      "outputs": [
        {
          "output_type": "execute_result",
          "data": {
            "text/plain": [
              "                          Title    Year                      Genre(s)  IMDB  \\\n",
              "12019  Minions: The Rise of Gru  2022.0  Animation, Adventure, Comedy   6.5   \n",
              "\n",
              "      Rotten Tomatoes  Metacritic   TMDB # of IMDB Votes  \\\n",
              "12019              69        56.0  7.325          93,021   \n",
              "\n",
              "                  # of Awards  Gross Domestic Box Office Sales ($)  Media  \\\n",
              "12019  1 win & 18 nominations                          370270765.0  movie   \n",
              "\n",
              "                                        Directors                 Origin  \n",
              "12019  Kyle Balda, Brad Ableson, Jonathan del Val  United States, France  "
            ],
            "text/html": [
              "\n",
              "  <div id=\"df-9c256724-52fa-4fab-839c-f39d4676e0b2\" class=\"colab-df-container\">\n",
              "    <div>\n",
              "<style scoped>\n",
              "    .dataframe tbody tr th:only-of-type {\n",
              "        vertical-align: middle;\n",
              "    }\n",
              "\n",
              "    .dataframe tbody tr th {\n",
              "        vertical-align: top;\n",
              "    }\n",
              "\n",
              "    .dataframe thead th {\n",
              "        text-align: right;\n",
              "    }\n",
              "</style>\n",
              "<table border=\"1\" class=\"dataframe\">\n",
              "  <thead>\n",
              "    <tr style=\"text-align: right;\">\n",
              "      <th></th>\n",
              "      <th>Title</th>\n",
              "      <th>Year</th>\n",
              "      <th>Genre(s)</th>\n",
              "      <th>IMDB</th>\n",
              "      <th>Rotten Tomatoes</th>\n",
              "      <th>Metacritic</th>\n",
              "      <th>TMDB</th>\n",
              "      <th># of IMDB Votes</th>\n",
              "      <th># of Awards</th>\n",
              "      <th>Gross Domestic Box Office Sales ($)</th>\n",
              "      <th>Media</th>\n",
              "      <th>Directors</th>\n",
              "      <th>Origin</th>\n",
              "    </tr>\n",
              "  </thead>\n",
              "  <tbody>\n",
              "    <tr>\n",
              "      <th>12019</th>\n",
              "      <td>Minions: The Rise of Gru</td>\n",
              "      <td>2022.0</td>\n",
              "      <td>Animation, Adventure, Comedy</td>\n",
              "      <td>6.5</td>\n",
              "      <td>69</td>\n",
              "      <td>56.0</td>\n",
              "      <td>7.325</td>\n",
              "      <td>93,021</td>\n",
              "      <td>1 win &amp; 18 nominations</td>\n",
              "      <td>370270765.0</td>\n",
              "      <td>movie</td>\n",
              "      <td>Kyle Balda, Brad Ableson, Jonathan del Val</td>\n",
              "      <td>United States, France</td>\n",
              "    </tr>\n",
              "  </tbody>\n",
              "</table>\n",
              "</div>\n",
              "    <div class=\"colab-df-buttons\">\n",
              "\n",
              "  <div class=\"colab-df-container\">\n",
              "    <button class=\"colab-df-convert\" onclick=\"convertToInteractive('df-9c256724-52fa-4fab-839c-f39d4676e0b2')\"\n",
              "            title=\"Convert this dataframe to an interactive table.\"\n",
              "            style=\"display:none;\">\n",
              "\n",
              "  <svg xmlns=\"http://www.w3.org/2000/svg\" height=\"24px\" viewBox=\"0 -960 960 960\">\n",
              "    <path d=\"M120-120v-720h720v720H120Zm60-500h600v-160H180v160Zm220 220h160v-160H400v160Zm0 220h160v-160H400v160ZM180-400h160v-160H180v160Zm440 0h160v-160H620v160ZM180-180h160v-160H180v160Zm440 0h160v-160H620v160Z\"/>\n",
              "  </svg>\n",
              "    </button>\n",
              "\n",
              "  <style>\n",
              "    .colab-df-container {\n",
              "      display:flex;\n",
              "      gap: 12px;\n",
              "    }\n",
              "\n",
              "    .colab-df-convert {\n",
              "      background-color: #E8F0FE;\n",
              "      border: none;\n",
              "      border-radius: 50%;\n",
              "      cursor: pointer;\n",
              "      display: none;\n",
              "      fill: #1967D2;\n",
              "      height: 32px;\n",
              "      padding: 0 0 0 0;\n",
              "      width: 32px;\n",
              "    }\n",
              "\n",
              "    .colab-df-convert:hover {\n",
              "      background-color: #E2EBFA;\n",
              "      box-shadow: 0px 1px 2px rgba(60, 64, 67, 0.3), 0px 1px 3px 1px rgba(60, 64, 67, 0.15);\n",
              "      fill: #174EA6;\n",
              "    }\n",
              "\n",
              "    .colab-df-buttons div {\n",
              "      margin-bottom: 4px;\n",
              "    }\n",
              "\n",
              "    [theme=dark] .colab-df-convert {\n",
              "      background-color: #3B4455;\n",
              "      fill: #D2E3FC;\n",
              "    }\n",
              "\n",
              "    [theme=dark] .colab-df-convert:hover {\n",
              "      background-color: #434B5C;\n",
              "      box-shadow: 0px 1px 3px 1px rgba(0, 0, 0, 0.15);\n",
              "      filter: drop-shadow(0px 1px 2px rgba(0, 0, 0, 0.3));\n",
              "      fill: #FFFFFF;\n",
              "    }\n",
              "  </style>\n",
              "\n",
              "    <script>\n",
              "      const buttonEl =\n",
              "        document.querySelector('#df-9c256724-52fa-4fab-839c-f39d4676e0b2 button.colab-df-convert');\n",
              "      buttonEl.style.display =\n",
              "        google.colab.kernel.accessAllowed ? 'block' : 'none';\n",
              "\n",
              "      async function convertToInteractive(key) {\n",
              "        const element = document.querySelector('#df-9c256724-52fa-4fab-839c-f39d4676e0b2');\n",
              "        const dataTable =\n",
              "          await google.colab.kernel.invokeFunction('convertToInteractive',\n",
              "                                                    [key], {});\n",
              "        if (!dataTable) return;\n",
              "\n",
              "        const docLinkHtml = 'Like what you see? Visit the ' +\n",
              "          '<a target=\"_blank\" href=https://colab.research.google.com/notebooks/data_table.ipynb>data table notebook</a>'\n",
              "          + ' to learn more about interactive tables.';\n",
              "        element.innerHTML = '';\n",
              "        dataTable['output_type'] = 'display_data';\n",
              "        await google.colab.output.renderOutput(dataTable, element);\n",
              "        const docLink = document.createElement('div');\n",
              "        docLink.innerHTML = docLinkHtml;\n",
              "        element.appendChild(docLink);\n",
              "      }\n",
              "    </script>\n",
              "  </div>\n",
              "\n",
              "\n",
              "    </div>\n",
              "  </div>\n"
            ],
            "application/vnd.google.colaboratory.intrinsic+json": {
              "type": "dataframe",
              "summary": "{\n  \"name\": \"df\",\n  \"rows\": 1,\n  \"fields\": [\n    {\n      \"column\": \"Title\",\n      \"properties\": {\n        \"dtype\": \"string\",\n        \"num_unique_values\": 1,\n        \"samples\": [\n          \"Minions: The Rise of Gru\"\n        ],\n        \"semantic_type\": \"\",\n        \"description\": \"\"\n      }\n    },\n    {\n      \"column\": \"Year\",\n      \"properties\": {\n        \"dtype\": \"number\",\n        \"std\": null,\n        \"min\": 2022.0,\n        \"max\": 2022.0,\n        \"num_unique_values\": 1,\n        \"samples\": [\n          2022.0\n        ],\n        \"semantic_type\": \"\",\n        \"description\": \"\"\n      }\n    },\n    {\n      \"column\": \"Genre(s)\",\n      \"properties\": {\n        \"dtype\": \"string\",\n        \"num_unique_values\": 1,\n        \"samples\": [\n          \"Animation, Adventure, Comedy\"\n        ],\n        \"semantic_type\": \"\",\n        \"description\": \"\"\n      }\n    },\n    {\n      \"column\": \"IMDB\",\n      \"properties\": {\n        \"dtype\": \"number\",\n        \"std\": null,\n        \"min\": 6.5,\n        \"max\": 6.5,\n        \"num_unique_values\": 1,\n        \"samples\": [\n          6.5\n        ],\n        \"semantic_type\": \"\",\n        \"description\": \"\"\n      }\n    },\n    {\n      \"column\": \"Rotten Tomatoes\",\n      \"properties\": {\n        \"dtype\": \"string\",\n        \"num_unique_values\": 1,\n        \"samples\": [\n          \"69\"\n        ],\n        \"semantic_type\": \"\",\n        \"description\": \"\"\n      }\n    },\n    {\n      \"column\": \"Metacritic\",\n      \"properties\": {\n        \"dtype\": \"number\",\n        \"std\": null,\n        \"min\": 56.0,\n        \"max\": 56.0,\n        \"num_unique_values\": 1,\n        \"samples\": [\n          56.0\n        ],\n        \"semantic_type\": \"\",\n        \"description\": \"\"\n      }\n    },\n    {\n      \"column\": \"TMDB\",\n      \"properties\": {\n        \"dtype\": \"number\",\n        \"std\": null,\n        \"min\": 7.325,\n        \"max\": 7.325,\n        \"num_unique_values\": 1,\n        \"samples\": [\n          7.325\n        ],\n        \"semantic_type\": \"\",\n        \"description\": \"\"\n      }\n    },\n    {\n      \"column\": \"# of IMDB Votes\",\n      \"properties\": {\n        \"dtype\": \"string\",\n        \"num_unique_values\": 1,\n        \"samples\": [\n          \"93,021\"\n        ],\n        \"semantic_type\": \"\",\n        \"description\": \"\"\n      }\n    },\n    {\n      \"column\": \"# of Awards\",\n      \"properties\": {\n        \"dtype\": \"string\",\n        \"num_unique_values\": 1,\n        \"samples\": [\n          \"1 win & 18 nominations\"\n        ],\n        \"semantic_type\": \"\",\n        \"description\": \"\"\n      }\n    },\n    {\n      \"column\": \"Gross Domestic Box Office Sales ($)\",\n      \"properties\": {\n        \"dtype\": \"number\",\n        \"std\": null,\n        \"min\": 370270765.0,\n        \"max\": 370270765.0,\n        \"num_unique_values\": 1,\n        \"samples\": [\n          370270765.0\n        ],\n        \"semantic_type\": \"\",\n        \"description\": \"\"\n      }\n    },\n    {\n      \"column\": \"Media\",\n      \"properties\": {\n        \"dtype\": \"string\",\n        \"num_unique_values\": 1,\n        \"samples\": [\n          \"movie\"\n        ],\n        \"semantic_type\": \"\",\n        \"description\": \"\"\n      }\n    },\n    {\n      \"column\": \"Directors\",\n      \"properties\": {\n        \"dtype\": \"string\",\n        \"num_unique_values\": 1,\n        \"samples\": [\n          \"Kyle Balda, Brad Ableson, Jonathan del Val\"\n        ],\n        \"semantic_type\": \"\",\n        \"description\": \"\"\n      }\n    },\n    {\n      \"column\": \"Origin\",\n      \"properties\": {\n        \"dtype\": \"string\",\n        \"num_unique_values\": 1,\n        \"samples\": [\n          \"United States, France\"\n        ],\n        \"semantic_type\": \"\",\n        \"description\": \"\"\n      }\n    }\n  ]\n}"
            }
          },
          "metadata": {},
          "execution_count": 142
        }
      ],
      "source": [
        "df['Gross Domestic Box Office Sales ($)'] = df['Gross Domestic Box Office Sales ($)'].astype(str).apply(lambda x: ''.join([char for char in x if char not in ['$',',']])).astype(float)\n",
        "df.sample(1)"
      ]
    },
    {
      "cell_type": "markdown",
      "id": "22324010-6a27-4faa-be93-c6b160fbc498",
      "metadata": {
        "id": "22324010-6a27-4faa-be93-c6b160fbc498"
      },
      "source": [
        "### Step 3) Create a DataFrame (df_movie_ratings) that allows data analysis of movie rating metrics.\n",
        "- Change rating system values from str to float.\n",
        "- Drop NaN values."
      ]
    },
    {
      "cell_type": "code",
      "execution_count": 143,
      "id": "1d8bb793-e47d-4f9f-b0f8-bb48a6ba3cb9",
      "metadata": {
        "colab": {
          "base_uri": "https://localhost:8080/",
          "height": 241
        },
        "id": "1d8bb793-e47d-4f9f-b0f8-bb48a6ba3cb9",
        "outputId": "c9b3f467-d9e4-4341-9c73-2b386fea4478"
      },
      "outputs": [
        {
          "output_type": "stream",
          "name": "stdout",
          "text": [
            "Number of movies BEFORE removing 'bad' RT ratings: 16001\n",
            "Number of movies AFTER removing 'bad' RT ratings: 11053\n"
          ]
        },
        {
          "output_type": "execute_result",
          "data": {
            "text/plain": [
              "               Title    Year           Genre(s)  IMDB Rotten Tomatoes  \\\n",
              "1979  The Stepfather  2009.0  Mystery, Thriller   5.6              13   \n",
              "\n",
              "      Metacritic   TMDB # of IMDB Votes    # of Awards  \\\n",
              "1979        33.0  5.823          39,620  2 nominations   \n",
              "\n",
              "      Gross Domestic Box Office Sales ($)  Media         Directors  \\\n",
              "1979                           29062561.0  movie  Nelson McCormick   \n",
              "\n",
              "             Origin  Rotten_tom  IMDB_votes  \n",
              "1979  United States        13.0     39620.0  "
            ],
            "text/html": [
              "\n",
              "  <div id=\"df-52f13b18-5a3f-4a60-bfdf-3f723638f82d\" class=\"colab-df-container\">\n",
              "    <div>\n",
              "<style scoped>\n",
              "    .dataframe tbody tr th:only-of-type {\n",
              "        vertical-align: middle;\n",
              "    }\n",
              "\n",
              "    .dataframe tbody tr th {\n",
              "        vertical-align: top;\n",
              "    }\n",
              "\n",
              "    .dataframe thead th {\n",
              "        text-align: right;\n",
              "    }\n",
              "</style>\n",
              "<table border=\"1\" class=\"dataframe\">\n",
              "  <thead>\n",
              "    <tr style=\"text-align: right;\">\n",
              "      <th></th>\n",
              "      <th>Title</th>\n",
              "      <th>Year</th>\n",
              "      <th>Genre(s)</th>\n",
              "      <th>IMDB</th>\n",
              "      <th>Rotten Tomatoes</th>\n",
              "      <th>Metacritic</th>\n",
              "      <th>TMDB</th>\n",
              "      <th># of IMDB Votes</th>\n",
              "      <th># of Awards</th>\n",
              "      <th>Gross Domestic Box Office Sales ($)</th>\n",
              "      <th>Media</th>\n",
              "      <th>Directors</th>\n",
              "      <th>Origin</th>\n",
              "      <th>Rotten_tom</th>\n",
              "      <th>IMDB_votes</th>\n",
              "    </tr>\n",
              "  </thead>\n",
              "  <tbody>\n",
              "    <tr>\n",
              "      <th>1979</th>\n",
              "      <td>The Stepfather</td>\n",
              "      <td>2009.0</td>\n",
              "      <td>Mystery, Thriller</td>\n",
              "      <td>5.6</td>\n",
              "      <td>13</td>\n",
              "      <td>33.0</td>\n",
              "      <td>5.823</td>\n",
              "      <td>39,620</td>\n",
              "      <td>2 nominations</td>\n",
              "      <td>29062561.0</td>\n",
              "      <td>movie</td>\n",
              "      <td>Nelson McCormick</td>\n",
              "      <td>United States</td>\n",
              "      <td>13.0</td>\n",
              "      <td>39620.0</td>\n",
              "    </tr>\n",
              "  </tbody>\n",
              "</table>\n",
              "</div>\n",
              "    <div class=\"colab-df-buttons\">\n",
              "\n",
              "  <div class=\"colab-df-container\">\n",
              "    <button class=\"colab-df-convert\" onclick=\"convertToInteractive('df-52f13b18-5a3f-4a60-bfdf-3f723638f82d')\"\n",
              "            title=\"Convert this dataframe to an interactive table.\"\n",
              "            style=\"display:none;\">\n",
              "\n",
              "  <svg xmlns=\"http://www.w3.org/2000/svg\" height=\"24px\" viewBox=\"0 -960 960 960\">\n",
              "    <path d=\"M120-120v-720h720v720H120Zm60-500h600v-160H180v160Zm220 220h160v-160H400v160Zm0 220h160v-160H400v160ZM180-400h160v-160H180v160Zm440 0h160v-160H620v160ZM180-180h160v-160H180v160Zm440 0h160v-160H620v160Z\"/>\n",
              "  </svg>\n",
              "    </button>\n",
              "\n",
              "  <style>\n",
              "    .colab-df-container {\n",
              "      display:flex;\n",
              "      gap: 12px;\n",
              "    }\n",
              "\n",
              "    .colab-df-convert {\n",
              "      background-color: #E8F0FE;\n",
              "      border: none;\n",
              "      border-radius: 50%;\n",
              "      cursor: pointer;\n",
              "      display: none;\n",
              "      fill: #1967D2;\n",
              "      height: 32px;\n",
              "      padding: 0 0 0 0;\n",
              "      width: 32px;\n",
              "    }\n",
              "\n",
              "    .colab-df-convert:hover {\n",
              "      background-color: #E2EBFA;\n",
              "      box-shadow: 0px 1px 2px rgba(60, 64, 67, 0.3), 0px 1px 3px 1px rgba(60, 64, 67, 0.15);\n",
              "      fill: #174EA6;\n",
              "    }\n",
              "\n",
              "    .colab-df-buttons div {\n",
              "      margin-bottom: 4px;\n",
              "    }\n",
              "\n",
              "    [theme=dark] .colab-df-convert {\n",
              "      background-color: #3B4455;\n",
              "      fill: #D2E3FC;\n",
              "    }\n",
              "\n",
              "    [theme=dark] .colab-df-convert:hover {\n",
              "      background-color: #434B5C;\n",
              "      box-shadow: 0px 1px 3px 1px rgba(0, 0, 0, 0.15);\n",
              "      filter: drop-shadow(0px 1px 2px rgba(0, 0, 0, 0.3));\n",
              "      fill: #FFFFFF;\n",
              "    }\n",
              "  </style>\n",
              "\n",
              "    <script>\n",
              "      const buttonEl =\n",
              "        document.querySelector('#df-52f13b18-5a3f-4a60-bfdf-3f723638f82d button.colab-df-convert');\n",
              "      buttonEl.style.display =\n",
              "        google.colab.kernel.accessAllowed ? 'block' : 'none';\n",
              "\n",
              "      async function convertToInteractive(key) {\n",
              "        const element = document.querySelector('#df-52f13b18-5a3f-4a60-bfdf-3f723638f82d');\n",
              "        const dataTable =\n",
              "          await google.colab.kernel.invokeFunction('convertToInteractive',\n",
              "                                                    [key], {});\n",
              "        if (!dataTable) return;\n",
              "\n",
              "        const docLinkHtml = 'Like what you see? Visit the ' +\n",
              "          '<a target=\"_blank\" href=https://colab.research.google.com/notebooks/data_table.ipynb>data table notebook</a>'\n",
              "          + ' to learn more about interactive tables.';\n",
              "        element.innerHTML = '';\n",
              "        dataTable['output_type'] = 'display_data';\n",
              "        await google.colab.output.renderOutput(dataTable, element);\n",
              "        const docLink = document.createElement('div');\n",
              "        docLink.innerHTML = docLinkHtml;\n",
              "        element.appendChild(docLink);\n",
              "      }\n",
              "    </script>\n",
              "  </div>\n",
              "\n",
              "\n",
              "    </div>\n",
              "  </div>\n"
            ],
            "application/vnd.google.colaboratory.intrinsic+json": {
              "type": "dataframe",
              "summary": "{\n  \"name\": \"df\",\n  \"rows\": 1,\n  \"fields\": [\n    {\n      \"column\": \"Title\",\n      \"properties\": {\n        \"dtype\": \"string\",\n        \"num_unique_values\": 1,\n        \"samples\": [\n          \"The Stepfather\"\n        ],\n        \"semantic_type\": \"\",\n        \"description\": \"\"\n      }\n    },\n    {\n      \"column\": \"Year\",\n      \"properties\": {\n        \"dtype\": \"number\",\n        \"std\": null,\n        \"min\": 2009.0,\n        \"max\": 2009.0,\n        \"num_unique_values\": 1,\n        \"samples\": [\n          2009.0\n        ],\n        \"semantic_type\": \"\",\n        \"description\": \"\"\n      }\n    },\n    {\n      \"column\": \"Genre(s)\",\n      \"properties\": {\n        \"dtype\": \"string\",\n        \"num_unique_values\": 1,\n        \"samples\": [\n          \"Mystery, Thriller\"\n        ],\n        \"semantic_type\": \"\",\n        \"description\": \"\"\n      }\n    },\n    {\n      \"column\": \"IMDB\",\n      \"properties\": {\n        \"dtype\": \"number\",\n        \"std\": null,\n        \"min\": 5.6,\n        \"max\": 5.6,\n        \"num_unique_values\": 1,\n        \"samples\": [\n          5.6\n        ],\n        \"semantic_type\": \"\",\n        \"description\": \"\"\n      }\n    },\n    {\n      \"column\": \"Rotten Tomatoes\",\n      \"properties\": {\n        \"dtype\": \"string\",\n        \"num_unique_values\": 1,\n        \"samples\": [\n          \"13\"\n        ],\n        \"semantic_type\": \"\",\n        \"description\": \"\"\n      }\n    },\n    {\n      \"column\": \"Metacritic\",\n      \"properties\": {\n        \"dtype\": \"number\",\n        \"std\": null,\n        \"min\": 33.0,\n        \"max\": 33.0,\n        \"num_unique_values\": 1,\n        \"samples\": [\n          33.0\n        ],\n        \"semantic_type\": \"\",\n        \"description\": \"\"\n      }\n    },\n    {\n      \"column\": \"TMDB\",\n      \"properties\": {\n        \"dtype\": \"number\",\n        \"std\": null,\n        \"min\": 5.823,\n        \"max\": 5.823,\n        \"num_unique_values\": 1,\n        \"samples\": [\n          5.823\n        ],\n        \"semantic_type\": \"\",\n        \"description\": \"\"\n      }\n    },\n    {\n      \"column\": \"# of IMDB Votes\",\n      \"properties\": {\n        \"dtype\": \"string\",\n        \"num_unique_values\": 1,\n        \"samples\": [\n          \"39,620\"\n        ],\n        \"semantic_type\": \"\",\n        \"description\": \"\"\n      }\n    },\n    {\n      \"column\": \"# of Awards\",\n      \"properties\": {\n        \"dtype\": \"string\",\n        \"num_unique_values\": 1,\n        \"samples\": [\n          \"2 nominations\"\n        ],\n        \"semantic_type\": \"\",\n        \"description\": \"\"\n      }\n    },\n    {\n      \"column\": \"Gross Domestic Box Office Sales ($)\",\n      \"properties\": {\n        \"dtype\": \"number\",\n        \"std\": null,\n        \"min\": 29062561.0,\n        \"max\": 29062561.0,\n        \"num_unique_values\": 1,\n        \"samples\": [\n          29062561.0\n        ],\n        \"semantic_type\": \"\",\n        \"description\": \"\"\n      }\n    },\n    {\n      \"column\": \"Media\",\n      \"properties\": {\n        \"dtype\": \"string\",\n        \"num_unique_values\": 1,\n        \"samples\": [\n          \"movie\"\n        ],\n        \"semantic_type\": \"\",\n        \"description\": \"\"\n      }\n    },\n    {\n      \"column\": \"Directors\",\n      \"properties\": {\n        \"dtype\": \"string\",\n        \"num_unique_values\": 1,\n        \"samples\": [\n          \"Nelson McCormick\"\n        ],\n        \"semantic_type\": \"\",\n        \"description\": \"\"\n      }\n    },\n    {\n      \"column\": \"Origin\",\n      \"properties\": {\n        \"dtype\": \"string\",\n        \"num_unique_values\": 1,\n        \"samples\": [\n          \"United States\"\n        ],\n        \"semantic_type\": \"\",\n        \"description\": \"\"\n      }\n    },\n    {\n      \"column\": \"Rotten_tom\",\n      \"properties\": {\n        \"dtype\": \"number\",\n        \"std\": null,\n        \"min\": 13.0,\n        \"max\": 13.0,\n        \"num_unique_values\": 1,\n        \"samples\": [\n          13.0\n        ],\n        \"semantic_type\": \"\",\n        \"description\": \"\"\n      }\n    },\n    {\n      \"column\": \"IMDB_votes\",\n      \"properties\": {\n        \"dtype\": \"number\",\n        \"std\": null,\n        \"min\": 39620.0,\n        \"max\": 39620.0,\n        \"num_unique_values\": 1,\n        \"samples\": [\n          39620.0\n        ],\n        \"semantic_type\": \"\",\n        \"description\": \"\"\n      }\n    }\n  ]\n}"
            }
          },
          "metadata": {},
          "execution_count": 143
        }
      ],
      "source": [
        "# Changes rating system values (EXCEPT RT) from str to float.\n",
        "\n",
        "df['IMDB'] = df['IMDB'].astype(float)\n",
        "df['Metacritic'] = df['Metacritic'].astype(float)\n",
        "df['TMDB'] = df['TMDB'].astype(float)\n",
        "df['Rotten_tom'] = pd.to_numeric(df['Rotten Tomatoes'], errors='coerce')\n",
        "df['IMDB_votes'] = pd.to_numeric(df['# of IMDB Votes'].str.replace(',', ''), errors='coerce')\n",
        "\n",
        "\n",
        "# Assigns 'None' to invalid RT ratings, i.e. '31/10' and etc, and removes them in df_movie_ratings.\n",
        "\n",
        "def clean_rotten_tom(rtg):\n",
        "    if type(rtg) is str:\n",
        "        if '/' in rtg:\n",
        "            return None\n",
        "        else:\n",
        "            return rtg\n",
        "    else:\n",
        "        return rtg\n",
        "\n",
        "print(\"Number of movies BEFORE removing 'bad' RT ratings:\", df.shape[0])\n",
        "\n",
        "df['Rotten Tomatoes'] = df['Rotten Tomatoes'].apply(clean_rotten_tom)\n",
        "df_RT = df.dropna(subset='Rotten Tomatoes')\n",
        "\n",
        "print(\"Number of movies AFTER removing 'bad' RT ratings:\", df_RT.shape[0])\n",
        "\n",
        "df_RT['Rotten Tomatoes'] = df_RT['Rotten Tomatoes'].astype(float)\n",
        "\n",
        "df = df.reset_index(drop=True)\n",
        "\n",
        "df.sample(1)"
      ]
    },
    {
      "cell_type": "markdown",
      "source": [
        "### Step 4) Remove international movies."
      ],
      "metadata": {
        "id": "exSd6GoUSfnF"
      },
      "id": "exSd6GoUSfnF"
    },
    {
      "cell_type": "code",
      "source": [
        "def check_foreign(origin):\n",
        "  try:\n",
        "    if ('United States' in origin) or ('USA' in origin):\n",
        "      return True\n",
        "    else:\n",
        "      return False\n",
        "  except:\n",
        "    return False\n",
        "\n",
        "print(\"Number of movies BEFORE removing international movies or those with NaN values:\", df.shape[0])\n",
        "\n",
        "# Drop movies with NaN in \"Origin\"\n",
        "df.dropna(subset='Origin')\n",
        "\n",
        "# Check international status of movies.\n",
        "df['Domestic?'] = df['Origin'].apply(check_foreign)\n",
        "\n",
        "# Remove movies without \"United States\" in 'Origin'\n",
        "df = df[df['Domestic?'] == True]\n",
        "\n",
        "print(\"Number of movies AFTER removing international movies or those with NaN values:\", df.shape[0])\n",
        "\n"
      ],
      "metadata": {
        "colab": {
          "base_uri": "https://localhost:8080/"
        },
        "id": "EFCOpRDvSn9F",
        "outputId": "fe824eec-4396-4201-a9fb-0bb94329f935"
      },
      "id": "EFCOpRDvSn9F",
      "execution_count": 144,
      "outputs": [
        {
          "output_type": "stream",
          "name": "stdout",
          "text": [
            "Number of movies BEFORE removing international movies or those with NaN values: 16001\n",
            "Number of movies AFTER removing international movies or those with NaN values: 12018\n"
          ]
        }
      ]
    },
    {
      "cell_type": "code",
      "source": [
        "#Evaluate Year\n",
        "print(df['Year'].value_counts().reset_index().sort_values('Year'))\n",
        "\n",
        "#Histogram of year\n",
        "plt.figure(figsize=(15,8))\n",
        "plt.hist(df.Year, bins=np.arange(1965, 2030))\n",
        "plt.title('Frequency by Year', fontsize=24)\n",
        "plt.yticks(fontsize=14)\n",
        "plt.xticks(fontsize=14)\n",
        "plt.xlabel('Year', fontsize=18)\n",
        "plt.ylabel('Frequency', fontsize=18)\n",
        "plt.savefig('histo_year.jpg', format='jpg', dpi=300)"
      ],
      "metadata": {
        "colab": {
          "base_uri": "https://localhost:8080/",
          "height": 1000
        },
        "id": "jJJDo8BZycIm",
        "outputId": "1b5cbed9-dd02-4432-d4a4-9e7fa447ca41"
      },
      "id": "jJJDo8BZycIm",
      "execution_count": 145,
      "outputs": [
        {
          "output_type": "stream",
          "name": "stdout",
          "text": [
            "      Year  count\n",
            "51  1972.0    108\n",
            "39  1973.0    162\n",
            "44  1974.0    142\n",
            "43  1975.0    143\n",
            "46  1976.0    141\n",
            "50  1977.0    127\n",
            "42  1978.0    144\n",
            "49  1979.0    127\n",
            "41  1980.0    155\n",
            "47  1981.0    131\n",
            "45  1982.0    142\n",
            "48  1983.0    129\n",
            "38  1984.0    169\n",
            "37  1985.0    170\n",
            "31  1986.0    195\n",
            "32  1987.0    193\n",
            "23  1988.0    247\n",
            "30  1989.0    199\n",
            "33  1990.0    191\n",
            "29  1991.0    203\n",
            "34  1992.0    188\n",
            "27  1993.0    228\n",
            "28  1994.0    222\n",
            "25  1995.0    239\n",
            "18  1996.0    258\n",
            "24  1997.0    243\n",
            "22  1998.0    249\n",
            "21  1999.0    251\n",
            "15  2000.0    274\n",
            "20  2001.0    251\n",
            "14  2002.0    276\n",
            "16  2003.0    272\n",
            "19  2004.0    251\n",
            "10  2005.0    298\n",
            "9   2006.0    305\n",
            "3   2007.0    352\n",
            "2   2008.0    354\n",
            "4   2009.0    351\n",
            "8   2010.0    315\n",
            "6   2011.0    334\n",
            "7   2012.0    330\n",
            "26  2013.0    237\n",
            "36  2014.0    179\n",
            "40  2015.0    159\n",
            "35  2016.0    180\n",
            "17  2017.0    260\n",
            "11  2018.0    298\n",
            "13  2019.0    289\n",
            "12  2020.0    297\n",
            "1   2021.0    355\n",
            "0   2022.0    356\n",
            "5   2023.0    349\n"
          ]
        },
        {
          "output_type": "display_data",
          "data": {
            "text/plain": [
              "<Figure size 1500x800 with 1 Axes>"
            ],
            "image/png": "[encoded data removed]"
          },
          "metadata": {}
        }
      ]
    },
    {
      "cell_type": "code",
      "source": [
        "#Convert year from float to int (remove NaN, then replace NaN)\n",
        "df['Year_int'] = df['Year'].astype(str)\n",
        "df['Year_int'] = df['Year_int'].str.slice(0, -2)\n",
        "df['Year_int'][df['Year'].isnull()] = np.nan\n",
        "\n",
        "df['filmyear'] = df['Title'] + '_' + df['Year_int']"
      ],
      "metadata": {
        "id": "hDa9SjwTGqXi"
      },
      "id": "hDa9SjwTGqXi",
      "execution_count": 146,
      "outputs": []
    },
    {
      "cell_type": "code",
      "source": [
        "#Combine all the genres listed into a giant list then use set to get rid of all duplicates\n",
        "df['Genre(s)'][pd.isna(df['Genre(s)'])] = ''\n",
        "Genres = list(df['Genre(s)'])\n",
        "Genres2 = []\n",
        "for i in range(len(Genres)):\n",
        "    Genres2.append(re.split(', ', Genres[i]))\n",
        "flat_genres = [\n",
        "    genres1\n",
        "    for genres2 in Genres2\n",
        "    for genres1 in genres2\n",
        "]\n",
        "set_genres = set(flat_genres)\n",
        "all_genres = sorted(list(set_genres))\n",
        "all_genres.remove('')"
      ],
      "metadata": {
        "id": "70bK1uzGGwnX"
      },
      "id": "70bK1uzGGwnX",
      "execution_count": 147,
      "outputs": []
    },
    {
      "cell_type": "markdown",
      "source": [
        "# BELOW THROWS ERROR"
      ],
      "metadata": {
        "id": "4FP5-0FmdY_H"
      },
      "id": "4FP5-0FmdY_H"
    },
    {
      "cell_type": "code",
      "source": [
        "# Make all genres individual columns with binary True or False values\n",
        "for i in all_genres:\n",
        "    df[i] = False\n",
        "    for j in range(len(df['Genre(s)'])):\n",
        "        if i in df['Genre(s)'][j]:\n",
        "            df[i][j] = True"
      ],
      "metadata": {
        "id": "bdh74EUAG1mb",
        "colab": {
          "base_uri": "https://localhost:8080/",
          "height": 575
        },
        "outputId": "ae6515be-1bf2-4234-ca2a-a6040d33b92e"
      },
      "id": "bdh74EUAG1mb",
      "execution_count": 148,
      "outputs": [
        {
          "output_type": "error",
          "ename": "KeyError",
          "evalue": "152",
          "traceback": [
            "\u001b[0;31m---------------------------------------------------------------------------\u001b[0m",
            "\u001b[0;31mKeyError\u001b[0m                                  Traceback (most recent call last)",
            "\u001b[0;32m/usr/local/lib/python3.10/dist-packages/pandas/core/indexes/base.py\u001b[0m in \u001b[0;36mget_loc\u001b[0;34m(self, key)\u001b[0m\n\u001b[1;32m   3804\u001b[0m         \u001b[0;32mtry\u001b[0m\u001b[0;34m:\u001b[0m\u001b[0;34m\u001b[0m\u001b[0;34m\u001b[0m\u001b[0m\n\u001b[0;32m-> 3805\u001b[0;31m             \u001b[0;32mreturn\u001b[0m \u001b[0mself\u001b[0m\u001b[0;34m.\u001b[0m\u001b[0m_engine\u001b[0m\u001b[0;34m.\u001b[0m\u001b[0mget_loc\u001b[0m\u001b[0;34m(\u001b[0m\u001b[0mcasted_key\u001b[0m\u001b[0;34m)\u001b[0m\u001b[0;34m\u001b[0m\u001b[0;34m\u001b[0m\u001b[0m\n\u001b[0m\u001b[1;32m   3806\u001b[0m         \u001b[0;32mexcept\u001b[0m \u001b[0mKeyError\u001b[0m \u001b[0;32mas\u001b[0m \u001b[0merr\u001b[0m\u001b[0;34m:\u001b[0m\u001b[0;34m\u001b[0m\u001b[0;34m\u001b[0m\u001b[0m\n",
            "\u001b[0;32mindex.pyx\u001b[0m in \u001b[0;36mpandas._libs.index.IndexEngine.get_loc\u001b[0;34m()\u001b[0m\n",
            "\u001b[0;32mindex.pyx\u001b[0m in \u001b[0;36mpandas._libs.index.IndexEngine.get_loc\u001b[0;34m()\u001b[0m\n",
            "\u001b[0;32mpandas/_libs/hashtable_class_helper.pxi\u001b[0m in \u001b[0;36mpandas._libs.hashtable.Int64HashTable.get_item\u001b[0;34m()\u001b[0m\n",
            "\u001b[0;32mpandas/_libs/hashtable_class_helper.pxi\u001b[0m in \u001b[0;36mpandas._libs.hashtable.Int64HashTable.get_item\u001b[0;34m()\u001b[0m\n",
            "\u001b[0;31mKeyError\u001b[0m: 152",
            "\nThe above exception was the direct cause of the following exception:\n",
            "\u001b[0;31mKeyError\u001b[0m                                  Traceback (most recent call last)",
            "\u001b[0;32m<ipython-input-148-b9625ca41882>\u001b[0m in \u001b[0;36m<cell line: 2>\u001b[0;34m()\u001b[0m\n\u001b[1;32m      3\u001b[0m     \u001b[0mdf\u001b[0m\u001b[0;34m[\u001b[0m\u001b[0mi\u001b[0m\u001b[0;34m]\u001b[0m \u001b[0;34m=\u001b[0m \u001b[0;32mFalse\u001b[0m\u001b[0;34m\u001b[0m\u001b[0;34m\u001b[0m\u001b[0m\n\u001b[1;32m      4\u001b[0m     \u001b[0;32mfor\u001b[0m \u001b[0mj\u001b[0m \u001b[0;32min\u001b[0m \u001b[0mrange\u001b[0m\u001b[0;34m(\u001b[0m\u001b[0mlen\u001b[0m\u001b[0;34m(\u001b[0m\u001b[0mdf\u001b[0m\u001b[0;34m[\u001b[0m\u001b[0;34m'Genre(s)'\u001b[0m\u001b[0;34m]\u001b[0m\u001b[0;34m)\u001b[0m\u001b[0;34m)\u001b[0m\u001b[0;34m:\u001b[0m\u001b[0;34m\u001b[0m\u001b[0;34m\u001b[0m\u001b[0m\n\u001b[0;32m----> 5\u001b[0;31m         \u001b[0;32mif\u001b[0m \u001b[0mi\u001b[0m \u001b[0;32min\u001b[0m \u001b[0mdf\u001b[0m\u001b[0;34m[\u001b[0m\u001b[0;34m'Genre(s)'\u001b[0m\u001b[0;34m]\u001b[0m\u001b[0;34m[\u001b[0m\u001b[0mj\u001b[0m\u001b[0;34m]\u001b[0m\u001b[0;34m:\u001b[0m\u001b[0;34m\u001b[0m\u001b[0;34m\u001b[0m\u001b[0m\n\u001b[0m\u001b[1;32m      6\u001b[0m             \u001b[0mdf\u001b[0m\u001b[0;34m[\u001b[0m\u001b[0mi\u001b[0m\u001b[0;34m]\u001b[0m\u001b[0;34m[\u001b[0m\u001b[0mj\u001b[0m\u001b[0;34m]\u001b[0m \u001b[0;34m=\u001b[0m \u001b[0;32mTrue\u001b[0m\u001b[0;34m\u001b[0m\u001b[0;34m\u001b[0m\u001b[0m\n",
            "\u001b[0;32m/usr/local/lib/python3.10/dist-packages/pandas/core/series.py\u001b[0m in \u001b[0;36m__getitem__\u001b[0;34m(self, key)\u001b[0m\n\u001b[1;32m   1119\u001b[0m \u001b[0;34m\u001b[0m\u001b[0m\n\u001b[1;32m   1120\u001b[0m         \u001b[0;32melif\u001b[0m \u001b[0mkey_is_scalar\u001b[0m\u001b[0;34m:\u001b[0m\u001b[0;34m\u001b[0m\u001b[0;34m\u001b[0m\u001b[0m\n\u001b[0;32m-> 1121\u001b[0;31m             \u001b[0;32mreturn\u001b[0m \u001b[0mself\u001b[0m\u001b[0;34m.\u001b[0m\u001b[0m_get_value\u001b[0m\u001b[0;34m(\u001b[0m\u001b[0mkey\u001b[0m\u001b[0;34m)\u001b[0m\u001b[0;34m\u001b[0m\u001b[0;34m\u001b[0m\u001b[0m\n\u001b[0m\u001b[1;32m   1122\u001b[0m \u001b[0;34m\u001b[0m\u001b[0m\n\u001b[1;32m   1123\u001b[0m         \u001b[0;31m# Convert generator to list before going through hashable part\u001b[0m\u001b[0;34m\u001b[0m\u001b[0;34m\u001b[0m\u001b[0m\n",
            "\u001b[0;32m/usr/local/lib/python3.10/dist-packages/pandas/core/series.py\u001b[0m in \u001b[0;36m_get_value\u001b[0;34m(self, label, takeable)\u001b[0m\n\u001b[1;32m   1235\u001b[0m \u001b[0;34m\u001b[0m\u001b[0m\n\u001b[1;32m   1236\u001b[0m         \u001b[0;31m# Similar to Index.get_value, but we do not fall back to positional\u001b[0m\u001b[0;34m\u001b[0m\u001b[0;34m\u001b[0m\u001b[0m\n\u001b[0;32m-> 1237\u001b[0;31m         \u001b[0mloc\u001b[0m \u001b[0;34m=\u001b[0m \u001b[0mself\u001b[0m\u001b[0;34m.\u001b[0m\u001b[0mindex\u001b[0m\u001b[0;34m.\u001b[0m\u001b[0mget_loc\u001b[0m\u001b[0;34m(\u001b[0m\u001b[0mlabel\u001b[0m\u001b[0;34m)\u001b[0m\u001b[0;34m\u001b[0m\u001b[0;34m\u001b[0m\u001b[0m\n\u001b[0m\u001b[1;32m   1238\u001b[0m \u001b[0;34m\u001b[0m\u001b[0m\n\u001b[1;32m   1239\u001b[0m         \u001b[0;32mif\u001b[0m \u001b[0mis_integer\u001b[0m\u001b[0;34m(\u001b[0m\u001b[0mloc\u001b[0m\u001b[0;34m)\u001b[0m\u001b[0;34m:\u001b[0m\u001b[0;34m\u001b[0m\u001b[0;34m\u001b[0m\u001b[0m\n",
            "\u001b[0;32m/usr/local/lib/python3.10/dist-packages/pandas/core/indexes/base.py\u001b[0m in \u001b[0;36mget_loc\u001b[0;34m(self, key)\u001b[0m\n\u001b[1;32m   3810\u001b[0m             ):\n\u001b[1;32m   3811\u001b[0m                 \u001b[0;32mraise\u001b[0m \u001b[0mInvalidIndexError\u001b[0m\u001b[0;34m(\u001b[0m\u001b[0mkey\u001b[0m\u001b[0;34m)\u001b[0m\u001b[0;34m\u001b[0m\u001b[0;34m\u001b[0m\u001b[0m\n\u001b[0;32m-> 3812\u001b[0;31m             \u001b[0;32mraise\u001b[0m \u001b[0mKeyError\u001b[0m\u001b[0;34m(\u001b[0m\u001b[0mkey\u001b[0m\u001b[0;34m)\u001b[0m \u001b[0;32mfrom\u001b[0m \u001b[0merr\u001b[0m\u001b[0;34m\u001b[0m\u001b[0;34m\u001b[0m\u001b[0m\n\u001b[0m\u001b[1;32m   3813\u001b[0m         \u001b[0;32mexcept\u001b[0m \u001b[0mTypeError\u001b[0m\u001b[0;34m:\u001b[0m\u001b[0;34m\u001b[0m\u001b[0;34m\u001b[0m\u001b[0m\n\u001b[1;32m   3814\u001b[0m             \u001b[0;31m# If we have a listlike key, _check_indexing_error will raise\u001b[0m\u001b[0;34m\u001b[0m\u001b[0;34m\u001b[0m\u001b[0m\n",
            "\u001b[0;31mKeyError\u001b[0m: 152"
          ]
        }
      ]
    },
    {
      "cell_type": "code",
      "source": [
        "# Bar Graph of Genres\n",
        "x=list()\n",
        "for i in all_genres:\n",
        "    x.append(df[i].sum())\n",
        "GenreTable = pd.DataFrame({'Genre': all_genres, 'Freq': x})"
      ],
      "metadata": {
        "id": "O_t2_tUYxeeu"
      },
      "id": "O_t2_tUYxeeu",
      "execution_count": null,
      "outputs": []
    },
    {
      "cell_type": "code",
      "source": [
        "plt.figure(figsize=(15, 8))\n",
        "plt.bar(GenreTable.Genre, GenreTable.Freq)\n",
        "plt.yticks(fontsize=14)\n",
        "plt.xticks(rotation=45, ha='right', fontsize=14)\n",
        "plt.title('Frequency by Genre', fontsize=24)\n",
        "plt.xlabel('Genre', fontsize=18)\n",
        "plt.ylabel('Frequency', fontsize=18)\n",
        "plt.tight_layout()\n",
        "plt.savefig('bargraph_genre.jpg', format='jpg', dpi=300, bbox_inches='tight')"
      ],
      "metadata": {
        "id": "ATZdQAo-x13y"
      },
      "id": "ATZdQAo-x13y",
      "execution_count": null,
      "outputs": []
    },
    {
      "cell_type": "code",
      "source": [
        "#Combine Action/Adventure Genres into 'Action'\n",
        "df['Action'][df['Adventure']==True] = True\n",
        "\n",
        "#Combine Music/Muscial Genres into 'Music'\n",
        "df['Music'][df['Musical']==True] = True\n",
        "\n",
        "#Create 'Other Genre' from smaller genres\n",
        "other_genres = ['Adult', 'Game-Show', 'News', 'Reality-TV', 'Short', 'Sport', 'Talk-Show', 'War', 'Western']\n",
        "df['Other Genre'] = 0\n",
        "for i in other_genres:\n",
        "    df['Other Genre'][df[i]==True] = True\n",
        "\n",
        "#Drop smaller genres\n",
        "df = df.drop(columns=['Adventure', 'Adult', 'Game-Show', 'Musical', 'News', 'Reality-TV', 'Short', 'Sport', 'Talk-Show', 'War', 'Western'])"
      ],
      "metadata": {
        "id": "m2pbVWrvx-mA"
      },
      "id": "m2pbVWrvx-mA",
      "execution_count": null,
      "outputs": []
    },
    {
      "cell_type": "code",
      "source": [
        "print(all_genres)\n",
        "to_remove = ('Adventure', 'Adult', 'Game-Show', 'Musical', 'News', 'Reality-TV', 'Short', 'Sport', 'Talk-Show', 'War', 'Western')\n",
        "all_genres = [genre for genre in all_genres if genre not in to_remove]\n",
        "all_genres.append('Other Genre')\n",
        "len(all_genres)"
      ],
      "metadata": {
        "id": "PezYWq3RyDRC"
      },
      "id": "PezYWq3RyDRC",
      "execution_count": null,
      "outputs": []
    },
    {
      "cell_type": "code",
      "source": [
        "#Bar Graph of Genres\n",
        "x=list()\n",
        "for i in all_genres:\n",
        "    x.append(df[i].sum())\n",
        "GenreTable = pd.DataFrame({'Genre': all_genres, 'Freq': x})"
      ],
      "metadata": {
        "id": "IRPjayvfyHLr"
      },
      "id": "IRPjayvfyHLr",
      "execution_count": null,
      "outputs": []
    },
    {
      "cell_type": "code",
      "source": [
        "plt.figure(figsize=(15, 8))\n",
        "plt.bar(GenreTable.Genre, GenreTable.Freq)\n",
        "plt.yticks(fontsize=14)\n",
        "plt.xticks(rotation=45, ha='right', fontsize=14)\n",
        "plt.title('Frequency by Genre', fontsize=24)\n",
        "plt.xlabel('Genre', fontsize=18)\n",
        "plt.ylabel('Frequency', fontsize=18)\n",
        "plt.tight_layout()\n",
        "plt.savefig('bargraph_genre.jpg', format='jpg', dpi=300, bbox_inches='tight')"
      ],
      "metadata": {
        "id": "IzNOIO6IyHVC"
      },
      "id": "IzNOIO6IyHVC",
      "execution_count": null,
      "outputs": []
    },
    {
      "cell_type": "code",
      "source": [
        "# Create plot of different rating systems TMDB, IMDB, Rotten Tomatoes, and Metacritic\n",
        "# Also inserted sum of missing values into each plot\n",
        "\n",
        "fig, axs = plt.subplots(2, 2, figsize=(15, 8))\n",
        "tf = 18\n",
        "fig.suptitle('Histogram of Rating Systems', fontsize=24)\n",
        "\n",
        "\n",
        "axs[0, 0].hist(df.TMDB, bins=np.arange(0, 11, 0.5))\n",
        "axs[0, 0].set_title('TMDB', fontsize=tf)\n",
        "axs[0, 0].text(1, 2000, s = 'Missing: ' + str(df.TMDB.isna().sum()), fontsize=14)\n",
        "axs[0, 0].set_xticks(np.arange(0, 11, 1))\n",
        "axs[0, 0].set_xticklabels(np.arange(0, 11, 1), fontsize=12)\n",
        "axs[0, 0].set_yticks(np.arange(0, 4001, 500))\n",
        "axs[0, 0].set_yticklabels(np.arange(0, 4001, 500), fontsize=12)\n",
        "\n",
        "axs[0, 1].hist(df.IMDB, bins=np.arange(1, 11, 0.5))\n",
        "axs[0, 1].set_title('IMDB', fontsize=tf)\n",
        "axs[0, 1].text(1, 1750, s = 'Missing: ' + str(df.IMDB.isna().sum()), fontsize=14)\n",
        "axs[0, 1].set_xticks(np.arange(0, 11, 1))\n",
        "axs[0, 1].set_xticklabels(np.arange(0, 11, 1), fontsize=12)\n",
        "axs[0, 1].set_yticks(np.arange(0, 3001, 500))\n",
        "axs[0, 1].set_yticklabels(np.arange(0, 3001, 500), fontsize=12)\n",
        "\n",
        "axs[1, 0].hist(df.Rotten_tom, bins=np.arange(0, 101, 5))\n",
        "axs[1, 0].set_title('Rotten Tomatoes', fontsize=tf)\n",
        "axs[1, 0].text(1, 550, s = 'Missing: ' + str(df.Rotten_tom.isna().sum()), fontsize=14)\n",
        "axs[1, 0].set_xticks(np.arange(0, 101, 20))\n",
        "axs[1, 0].set_xticklabels(np.arange(0, 101, 20), fontsize=12)\n",
        "axs[1, 0].set_yticks(np.arange(0, 1001, 100))\n",
        "axs[1, 0].set_yticklabels(np.arange(0, 1001, 100), fontsize=12)\n",
        "\n",
        "axs[1, 1].hist(df.Metacritic, bins=np.arange(0, 101, 5))\n",
        "axs[1, 1].set_title('Metacritic', fontsize=tf)\n",
        "axs[1, 1].text(1, 650, s = 'Missing: ' + str(df.Metacritic.isna().sum()), fontsize=14)\n",
        "axs[1, 1].set_xticks(np.arange(0, 101, 20))\n",
        "axs[1, 1].set_xticklabels(np.arange(0, 101, 20), fontsize=12)\n",
        "axs[1, 1].set_yticks(np.arange(0, 1001, 100))\n",
        "axs[1, 1].set_yticklabels(np.arange(0, 1001, 100), fontsize=12)\n",
        "\n",
        "fig.tight_layout()\n",
        "\n",
        "plt.savefig('histo1.jpg', format='jpg', dpi=300)\n",
        "\n",
        "plt.show()"
      ],
      "metadata": {
        "id": "XSHFujgHyHcM"
      },
      "id": "XSHFujgHyHcM",
      "execution_count": null,
      "outputs": []
    },
    {
      "cell_type": "code",
      "source": [
        "# Plotted IMDB votes and Gross Domestic Box Office Sales\n",
        "\n",
        "#Created labels for log transformed graphs\n",
        "xt = list()\n",
        "for i in np.arange(1,10,1):\n",
        "    xt.append('10^' + str(i))\n",
        "\n",
        "fs = 18\n",
        "fig, axs = plt.subplots(1, 2, figsize=(15, 8))\n",
        "fig.suptitle('Histogram of Votes and Gross Box Office Sales (Log 10 transformed)', fontsize=24)\n",
        "\n",
        "axs[0].hist(np.log10(df.IMDB_votes), bins=np.arange(1, 8, 0.5))\n",
        "#axs[1, 1].set_aspect('equal', 'box')\n",
        "axs[0].set_title('IMDB Votes', fontsize=fs)\n",
        "axs[0].text(1, 2000, s = 'Missing: ' + str(df.IMDB_votes.isna().sum()), fontsize=14)\n",
        "axs[0].set_xticks(np.arange(1, 8, 1))\n",
        "axs[0].set_xticklabels(xt[0:7], fontsize=12)\n",
        "axs[0].set_yticks(np.arange(0, 3001, 500))\n",
        "axs[0].set_yticklabels(np.arange(0, 3001, 500), fontsize=12)\n",
        "\n",
        "axs[1].hist(np.log10(df['Gross Domestic Box Office Sales ($)']), bins=np.arange(2, 10, 0.5))\n",
        "#axs[1, 1].set_aspect('equal', 'box')\n",
        "axs[1].set_title('Box Office Sales ($)', fontsize=fs)\n",
        "axs[1].text(2, 1750, s = 'Missing: ' + str(df['Gross Domestic Box Office Sales ($)'].isna().sum()), fontsize=14)\n",
        "axs[1].set_xticks(np.arange(1, 10, 1))\n",
        "axs[1].set_xticklabels(xt, fontsize=12)\n",
        "axs[1].set_yticks(np.arange(0, 2001, 500))\n",
        "axs[1].set_yticklabels(np.arange(0, 2001, 500), fontsize=12)\n",
        "#plt.xticks(ticks=[np.log(10**np.arange(1, 9))], labels=[(10**np.arange(1,9)).astype(str)])\n",
        "\n",
        "fig.tight_layout()\n",
        "\n",
        "plt.savefig('histo2.jpg', format='jpg', dpi=300)\n",
        "\n",
        "plt.show()"
      ],
      "metadata": {
        "id": "L700q4kLyHfO"
      },
      "id": "L700q4kLyHfO",
      "execution_count": null,
      "outputs": []
    },
    {
      "cell_type": "code",
      "source": [
        "#Awards\n",
        "df2 = pd.read_csv('the_oscar_award.csv')\n",
        "df2 = df2[df2['year_film'] >= 1972].reset_index(drop=True)"
      ],
      "metadata": {
        "id": "S_cJ5bIPyHiS"
      },
      "id": "S_cJ5bIPyHiS",
      "execution_count": null,
      "outputs": []
    },
    {
      "cell_type": "code",
      "source": [
        "df2['Category2'] = pd.NA\n",
        "df2['Category2'][df2['category'] == 'DIRECTING'] = 'DIRECTING'\n",
        "df2['Category2'][df2['category']=='ACTOR'] = 'LEAD ACTOR'\n",
        "df2['Category2'][df2['category']=='ACTOR IN A LEADING ROLE'] = 'LEAD ACTOR'\n",
        "df2['Category2'][df2['category']=='ACTRESS'] = 'LEAD ACTRESS'\n",
        "df2['Category2'][df2['category']=='ACTRESS IN A LEADING ROLE'] = 'LEAD ACTRESS'\n",
        "df2['Category2'][df2['category']=='BEST PICTURE'] = 'BEST PICTURE'\n",
        "df2['Category2'][df2['category']=='WRITING (Original Screenplay)'] = 'WRITING (Original Screenplay)'\n",
        "df2['Category2'][df2['category']=='WRITING (Screenplay Written Directly for the Screen)'] = 'WRITING (Original Screenplay)'\n",
        "df2['Category2'][df2['category']=='WRITING (Screenplay Written Directly for the Screen--based on factual material or on story material not previously published or produced)'] = 'WRITING (Original Screenplay)'\n",
        "df2['Category2'][df2['category']=='WRITING (Story and Screenplay--based on factual material or material not previously published or produced)'] = 'WRITING (Original Screenplay)'"
      ],
      "metadata": {
        "id": "qwmWraBmyHlM"
      },
      "id": "qwmWraBmyHlM",
      "execution_count": null,
      "outputs": []
    },
    {
      "cell_type": "code",
      "source": [
        "df2['big5win'] = 0\n",
        "df2.loc[df2['Category2'].notna() & (df2['winner'] == True), 'big5win'] = 1\n",
        "\n",
        "df2['big5nom']= 0\n",
        "df2.loc[df2['Category2'].notna(), 'big5nom'] = 1\n",
        "\n",
        "df2['filmyear'] = df2['film'] + '_' + df2['year_film'].astype(str)"
      ],
      "metadata": {
        "id": "8GgY5WT-yHn8"
      },
      "id": "8GgY5WT-yHn8",
      "execution_count": null,
      "outputs": []
    },
    {
      "cell_type": "code",
      "source": [
        "#Get number of Oscar nominations and wins\n",
        "df_cast1 = df2.groupby('filmyear').agg(wins=('winner', 'sum'), nominations=('filmyear', 'count'), big5win=('big5win', 'sum'), big5nom=('big5nom', 'sum'))\n",
        "df_cast1['filmyear'] = df_cast1.index\n",
        "df_cast1.reset_index(drop=True, inplace=True)\n",
        "df_cast1.shape"
      ],
      "metadata": {
        "id": "MyFDpV6YyHq5"
      },
      "id": "MyFDpV6YyHq5",
      "execution_count": null,
      "outputs": []
    },
    {
      "cell_type": "code",
      "source": [
        "df_cast2 = df2.pivot_table(index='filmyear', columns='Category2', aggfunc='size', fill_value=0)\n",
        "df_cast2.columns = ['Best_Pic_nom', 'Director_nom', 'Actor_nom', 'Actress_nom', 'Writing_nom']\n",
        "df_cast2.shape"
      ],
      "metadata": {
        "id": "z0H0MLrp28Zv"
      },
      "id": "z0H0MLrp28Zv",
      "execution_count": null,
      "outputs": []
    },
    {
      "cell_type": "code",
      "source": [
        "df_cast3 = df2.groupby(['filmyear', 'Category2'])['winner'].max().unstack(fill_value=False).reset_index()\n",
        "df_cast3.columns = ['filmyear', 'Best_Pic_win', 'Director_win', 'Actor_win', 'Actress_win', 'Writing_win']\n",
        "df_cast3.shape"
      ],
      "metadata": {
        "id": "Nz2EhEr3yHuD"
      },
      "id": "Nz2EhEr3yHuD",
      "execution_count": null,
      "outputs": []
    },
    {
      "cell_type": "code",
      "source": [
        "df_awards = df_cast1.merge(df_cast2, on='filmyear', how='left').merge(df_cast3, on='filmyear', how='left')"
      ],
      "metadata": {
        "id": "Z4Va2S8r2tBK"
      },
      "id": "Z4Va2S8r2tBK",
      "execution_count": null,
      "outputs": []
    },
    {
      "cell_type": "code",
      "source": [
        "col_names = []\n",
        "for i in np.arange(5, 10, 1):\n",
        "    col_names.append(df_awards.columns[i])\n",
        "for i in col_names:\n",
        "    df_awards[i][df_awards[i].isnull()] = 0\n",
        "\n",
        "col_names = []\n",
        "for i in np.arange(10, 15, 1):\n",
        "    col_names.append(df_awards.columns[i])\n",
        "for i in col_names:\n",
        "    df_awards[i][df_awards[i].isnull()] = False"
      ],
      "metadata": {
        "id": "MvI-YFjQ2tEQ"
      },
      "id": "MvI-YFjQ2tEQ",
      "execution_count": null,
      "outputs": []
    },
    {
      "cell_type": "code",
      "source": [
        "df_temp = df2.loc[df2['film'].notna(), ('film', 'year_film', 'filmyear')]\n",
        "df_temp.shape"
      ],
      "metadata": {
        "id": "YZ4EEzTC2tHN"
      },
      "id": "YZ4EEzTC2tHN",
      "execution_count": null,
      "outputs": []
    },
    {
      "cell_type": "code",
      "source": [
        "df_temp = df_temp.drop_duplicates()\n",
        "df_temp.shape"
      ],
      "metadata": {
        "id": "OhvRvD7C2tKE"
      },
      "id": "OhvRvD7C2tKE",
      "execution_count": null,
      "outputs": []
    },
    {
      "cell_type": "code",
      "source": [
        "df_awards.shape"
      ],
      "metadata": {
        "id": "mFQfhvU52tM8"
      },
      "id": "mFQfhvU52tM8",
      "execution_count": null,
      "outputs": []
    },
    {
      "cell_type": "code",
      "source": [
        "df_awards = pd.merge(df_awards, df_temp, on='filmyear')\n",
        "df_awards.shape"
      ],
      "metadata": {
        "id": "Ss2bspwg2tP0"
      },
      "id": "Ss2bspwg2tP0",
      "execution_count": null,
      "outputs": []
    },
    {
      "cell_type": "code",
      "source": [
        "df['filmyear2'] = df['filmyear'].str.lower()\n",
        "df['filmyear2'] = df['filmyear2'].str.replace(r'[^A-Za-z0-9\\s]', '', regex=True)\n",
        "\n",
        "df_awards['filmyear2'] = df_awards['filmyear'].str.lower()\n",
        "df_awards['filmyear2'] = df_awards['filmyear2'].str.replace(r'[^A-Za-z0-9\\s]', '', regex=True)"
      ],
      "metadata": {
        "id": "bmETRAvB3Tzj"
      },
      "id": "bmETRAvB3Tzj",
      "execution_count": null,
      "outputs": []
    },
    {
      "cell_type": "code",
      "source": [
        "df_final = pd.merge(df, df_awards, on='filmyear2', how='left')"
      ],
      "metadata": {
        "id": "Hq94vB9U3T44"
      },
      "id": "Hq94vB9U3T44",
      "execution_count": null,
      "outputs": []
    },
    {
      "cell_type": "code",
      "source": [
        "df_final.iloc[:, 35:39] = df_final.iloc[:, 35:39].fillna(0)\n",
        "df_final.iloc[:, 40:50] = df_final.iloc[:, 40:50].fillna(0)"
      ],
      "metadata": {
        "id": "T8Y1aZqG3UCU"
      },
      "id": "T8Y1aZqG3UCU",
      "execution_count": null,
      "outputs": []
    },
    {
      "cell_type": "code",
      "source": [
        "x = df_awards[~df_awards['filmyear2'].isin(df_final['filmyear2'])]\n",
        "x.to_csv('leftout.csv')\n",
        "x.shape"
      ],
      "metadata": {
        "id": "ggpMRemZ3UH4"
      },
      "id": "ggpMRemZ3UH4",
      "execution_count": null,
      "outputs": []
    },
    {
      "cell_type": "code",
      "source": [
        "#Histogram of missing awarded films by year\n",
        "plt.figure(figsize=(15,8))\n",
        "plt.hist(x.year_film, bins=np.arange(1965, 2030))\n",
        "plt.title('Frequency by Year', fontsize=24)\n",
        "plt.yticks(fontsize=14)\n",
        "plt.xticks(fontsize=14)\n",
        "plt.xlabel('Year', fontsize=18)\n",
        "plt.ylabel('Frequency', fontsize=18)\n",
        "plt.savefig('histo_year_missing awards.jpg', format='jpg', dpi=300)"
      ],
      "metadata": {
        "id": "9U6ITCBl7Jgs"
      },
      "id": "9U6ITCBl7Jgs",
      "execution_count": null,
      "outputs": []
    },
    {
      "cell_type": "code",
      "source": [
        "award_temp = df_awards.groupby('year_film')[['wins', 'nominations', 'big5win', 'big5nom']].sum()\n",
        "award_temp.nominations = award_temp.nominations - award_temp.wins\n",
        "award_temp.big5nom = award_temp.big5nom - award_temp.big5win"
      ],
      "metadata": {
        "id": "e8BPVkoR7kTx"
      },
      "id": "e8BPVkoR7kTx",
      "execution_count": null,
      "outputs": []
    },
    {
      "cell_type": "code",
      "source": [
        "plt.figure(figsize=(15, 8))\n",
        "plt.bar(award_temp.index, award_temp.nominations, color='r', label='Nominations')\n",
        "plt.bar(award_temp.index, award_temp.wins, bottom=award_temp.nominations, color='b', label='Wins')\n",
        "plt.yticks(fontsize=14)\n",
        "plt.xticks(rotation=45, ha='right', fontsize=14)\n",
        "plt.title('Oscar Nominations and Wins by Year (Oscar data)', fontsize=24)\n",
        "plt.xlabel('Year', fontsize=18)\n",
        "plt.ylabel('Frequency', fontsize=18)\n",
        "plt.legend(loc=\"upper left\", fontsize=18)\n",
        "plt.tight_layout()\n",
        "plt.savefig('bar stacked Oscar by year.jpg', format='jpg', dpi=300, bbox_inches='tight')"
      ],
      "metadata": {
        "id": "qOdei9L07Jjy"
      },
      "id": "qOdei9L07Jjy",
      "execution_count": null,
      "outputs": []
    },
    {
      "cell_type": "code",
      "source": [
        "plt.figure(figsize=(15, 8))\n",
        "plt.plot(award_temp.index, award_temp.nominations, marker = 'o', color='blue', label='Nominations')\n",
        "plt.plot(award_temp.index, award_temp.wins, marker = 'o', color='green', label='Wins')\n",
        "plt.plot(award_temp.index, award_temp.big5nom, marker = 'o', color='red', label='Big 5 Nominations')\n",
        "plt.plot(award_temp.index, award_temp.big5win, marker = 'o', color='black', label='Big 5 Wins')\n",
        "#plt.bar(award_temp.index, award_temp.wins, bottom=award_temp.nominations, color='b', label='Wins')\n",
        "plt.yticks(np.arange(0,101,25), fontsize=14)\n",
        "plt.xticks(rotation=45, ha='right', fontsize=14)\n",
        "plt.title('Oscar Nominations and Wins by Year (Oscar Data)', fontsize=24)\n",
        "plt.xlabel('Year', fontsize=18)\n",
        "plt.ylabel('Frequency', fontsize=18)\n",
        "plt.legend(loc=\"best\", fontsize=18)\n",
        "plt.grid(True)\n",
        "plt.tight_layout()\n",
        "plt.savefig('line graph oscars by year.jpg', format='jpg', dpi=300, bbox_inches='tight')"
      ],
      "metadata": {
        "id": "zE12CDJc7Jmn"
      },
      "id": "zE12CDJc7Jmn",
      "execution_count": null,
      "outputs": []
    },
    {
      "cell_type": "code",
      "source": [
        "award_temp = df_final.groupby('Year')[['wins', 'nominations', 'big5win', 'big5nom']].sum()\n",
        "award_temp.nominations = award_temp.nominations - award_temp.wins\n",
        "award_temp.big5nom = award_temp.big5nom - award_temp.big5win"
      ],
      "metadata": {
        "id": "3REYj6HvBp6e"
      },
      "id": "3REYj6HvBp6e",
      "execution_count": null,
      "outputs": []
    },
    {
      "cell_type": "code",
      "source": [
        "plt.figure(figsize=(15, 8))\n",
        "plt.bar(award_temp.index, award_temp.nominations, color='r', label='Nominations')\n",
        "plt.bar(award_temp.index, award_temp.wins, bottom=award_temp.nominations, color='b', label='Wins')\n",
        "plt.yticks(fontsize=14)\n",
        "plt.xticks(rotation=45, ha='right', fontsize=14)\n",
        "plt.title('Oscar Nominations and Wins by Year (Merged data)', fontsize=24)\n",
        "plt.xlabel('Year', fontsize=18)\n",
        "plt.ylabel('Frequency', fontsize=18)\n",
        "plt.legend(loc=\"upper left\", fontsize=18)\n",
        "plt.tight_layout()\n",
        "plt.savefig('bar stacked Oscar by year_merged.jpg', format='jpg', dpi=300, bbox_inches='tight')"
      ],
      "metadata": {
        "id": "nx-AEBaZ7Jpv"
      },
      "id": "nx-AEBaZ7Jpv",
      "execution_count": null,
      "outputs": []
    },
    {
      "cell_type": "code",
      "source": [
        "plt.figure(figsize=(15, 8))\n",
        "plt.plot(award_temp.index, award_temp.nominations, marker = 'o', color='blue', label='Nominations')\n",
        "plt.plot(award_temp.index, award_temp.wins, marker = 'o', color='green', label='Wins')\n",
        "plt.plot(award_temp.index, award_temp.big5nom, marker = 'o', color='red', label='Big 5 Nominations')\n",
        "plt.plot(award_temp.index, award_temp.big5win, marker = 'o', color='black', label='Big 5 Wins')\n",
        "#plt.bar(award_temp.index, award_temp.wins, bottom=award_temp.nominations, color='b', label='Wins')\n",
        "plt.yticks(fontsize=14)\n",
        "plt.xticks(rotation=45, ha='right', fontsize=14)\n",
        "plt.title('Oscar Nominations and Wins by Year (Merged Data)', fontsize=24)\n",
        "plt.xlabel('Year', fontsize=18)\n",
        "plt.ylabel('Frequency', fontsize=18)\n",
        "plt.legend(loc=\"upper left\", fontsize=14)\n",
        "plt.tight_layout()\n",
        "plt.savefig('line graph oscars by year_merged.jpg', format='jpg', dpi=300, bbox_inches='tight')"
      ],
      "metadata": {
        "id": "-SYtYJAI7Jss"
      },
      "id": "-SYtYJAI7Jss",
      "execution_count": null,
      "outputs": []
    },
    {
      "cell_type": "markdown",
      "id": "efec658b-6e53-4134-8765-2b7fc75ed2f8",
      "metadata": {
        "id": "efec658b-6e53-4134-8765-2b7fc75ed2f8"
      },
      "source": [
        "## Special Note:\n",
        "- The main API used in this project, OMDB API, returns invalid RT rating for over **5000 movies** (see above for reference).  \n",
        "- As a result, in order to effectively remove movies without RT but not remove those movies possessing ratings from the other metrics, RT will be analyzed separately in some data visualizations."
      ]
    },
    {
      "cell_type": "code",
      "source": [],
      "metadata": {
        "id": "1fk-bjrVx9RL"
      },
      "id": "1fk-bjrVx9RL",
      "execution_count": null,
      "outputs": []
    },
    {
      "cell_type": "markdown",
      "id": "53a345ef-c7f0-4d73-908c-33ed73c95826",
      "metadata": {
        "id": "53a345ef-c7f0-4d73-908c-33ed73c95826"
      },
      "source": [
        "## II: Data Visualization"
      ]
    },
    {
      "cell_type": "markdown",
      "id": "063072d5-89af-455c-b5d1-97029f7a372c",
      "metadata": {
        "id": "063072d5-89af-455c-b5d1-97029f7a372c"
      },
      "source": [
        "### A. Movie Ratings as a Function of Time (in years)"
      ]
    },
    {
      "cell_type": "markdown",
      "id": "10e6ca57-a16c-46a8-b629-be2378ea39fa",
      "metadata": {
        "id": "10e6ca57-a16c-46a8-b629-be2378ea39fa"
      },
      "source": [
        "#### Step 1) Group movie data by year and then use aggregation to find averages per metric per year."
      ]
    },
    {
      "cell_type": "code",
      "execution_count": null,
      "id": "6f13890f-d07d-4dca-8e81-c0b7ca2fe6e7",
      "metadata": {
        "id": "6f13890f-d07d-4dca-8e81-c0b7ca2fe6e7"
      },
      "outputs": [],
      "source": [
        "# Group by year and find average ratings per metric per year.\n",
        "\n",
        "df_groupby_year_no_RT = df.groupby(\"Year\").aggregate({\n",
        "    'IMDB':'mean',\n",
        "    'Metacritic':'mean',\n",
        "    'TMDB':'mean'})\n",
        "\n",
        "df_groupby_year_no_RT = df_groupby_year_no_RT.reset_index()\n",
        "\n",
        "df_groupby_year_with_RT = df_RT.groupby(\"Year\").aggregate({\n",
        "    'Rotten Tomatoes': 'mean',\n",
        "    })\n",
        "\n",
        "df_groupby_year_with_RT = df_groupby_year_with_RT.reset_index()"
      ]
    },
    {
      "cell_type": "markdown",
      "id": "77c11311-a413-4d8f-896f-e28c19c67a1a",
      "metadata": {
        "id": "77c11311-a413-4d8f-896f-e28c19c67a1a"
      },
      "source": [
        "#### Step 2) Plot (4) line graphs containing movie ratings per metric as a function of time, in years.\n",
        "\n",
        "#### Probably need to set the y-axis so a reader has a better sense of how stable to numbers are. -Brian"
      ]
    },
    {
      "cell_type": "code",
      "execution_count": null,
      "id": "e74e8ee7-95e5-4371-8e64-406ebe19ce08",
      "metadata": {
        "id": "e74e8ee7-95e5-4371-8e64-406ebe19ce08"
      },
      "outputs": [],
      "source": [
        "# Plot movie ratings per metric per year.\n",
        "\n",
        "fig1 = px.line(\n",
        "    df_groupby_year_no_RT,\n",
        "    x = 'Year',\n",
        "    y = 'IMDB',\n",
        "    title='IMDB Ratings over Time (in years)'\n",
        ")\n",
        "\n",
        "fig2 = px.line(\n",
        "    df_groupby_year_with_RT,\n",
        "    x = 'Year',\n",
        "    y = 'Rotten Tomatoes',\n",
        "    title='RT Ratings over Time (in years)'\n",
        ")\n",
        "\n",
        "fig3 = px.line(\n",
        "    df_groupby_year_no_RT,\n",
        "    x = 'Year',\n",
        "    y = 'Metacritic',\n",
        "    title='Metacritic Ratings over Time (in years)'\n",
        ")\n",
        "\n",
        "fig4 = px.line(\n",
        "    df_groupby_year_no_RT,\n",
        "    x = 'Year',\n",
        "    y = 'TMDB',\n",
        "    title='TMDB Ratings over Time (in years)'\n",
        ")\n",
        "fig1.update_layout(title_x = .5)\n",
        "fig2.update_layout(title_x = .5)\n",
        "fig3.update_layout(title_x = .5)\n",
        "fig4.update_layout(title_x = .5)\n",
        "\n",
        "fig1.show()\n",
        "fig2.show()\n",
        "fig3.show()\n",
        "fig4.show()\n"
      ]
    },
    {
      "cell_type": "markdown",
      "id": "bbe9e209-f8a2-47d9-bbda-30065e94973d",
      "metadata": {
        "id": "bbe9e209-f8a2-47d9-bbda-30065e94973d"
      },
      "source": [
        "### B. Movie Ratings **(by genre)** as a Function of Time (in years)"
      ]
    },
    {
      "cell_type": "markdown",
      "id": "daee73a4-7780-4eb1-aebb-b30eb47487f6",
      "metadata": {
        "id": "daee73a4-7780-4eb1-aebb-b30eb47487f6"
      },
      "source": [
        "#### Step 1) Drop all movies that have NaN in 'Genre(s)' column."
      ]
    },
    {
      "cell_type": "code",
      "execution_count": null,
      "id": "c57763cf-792b-40c6-96c6-896ed317114c",
      "metadata": {
        "id": "c57763cf-792b-40c6-96c6-896ed317114c"
      },
      "outputs": [],
      "source": [
        "df_genres = df.copy()\n",
        "print(\"Number of movies BEFORE removing those without genres:\", df_genres['Genre(s)'].shape[0])\n",
        "df_genres = df_genres.dropna(subset='Genre(s)')\n",
        "print(\"Number of movies AFTER removing those without genres:\", df_genres['Genre(s)'].shape[0])\n",
        "\n",
        "df_genres_RT = df_RT.copy()\n",
        "df_genres_RT = df_genres_RT.dropna(subset='Genre(s)')"
      ]
    },
    {
      "cell_type": "markdown",
      "id": "e201573a-de5f-4c9f-84a6-1bec58458e96",
      "metadata": {
        "id": "e201573a-de5f-4c9f-84a6-1bec58458e96"
      },
      "source": [
        "#### Step 2) Simplify grouping of genres among movies in dataset.\n",
        "- As seen below, there are 696 combinations of over 20 different genres.\n",
        "- This will make displaying data in this topic difficult if not impossible.\n",
        "- Therefore, we will try to reduce 696 combinations to 18 exclusive genres."
      ]
    },
    {
      "cell_type": "code",
      "execution_count": null,
      "id": "33cb367f-2d1e-4fec-8c17-92e8f985bb6c",
      "metadata": {
        "id": "33cb367f-2d1e-4fec-8c17-92e8f985bb6c"
      },
      "outputs": [],
      "source": [
        "df_genres['Genre(s)'].value_counts()"
      ]
    },
    {
      "cell_type": "markdown",
      "id": "55c939e5-c9f1-47cf-a011-7c13d4b0edd8",
      "metadata": {
        "id": "55c939e5-c9f1-47cf-a011-7c13d4b0edd8"
      },
      "source": [
        "#### Step 3) Create function that does the following:\n",
        "- Classifies movies containing the following genres in their lists of genres:\n",
        "    - 'Comedy, Action, Horror, Drama, Documentary, Animation, War, Fantasy, Crime, Musical, Adventure, Family, Thriller, Short, Sport, Musical, Music, Romance'\n",
        "    - The list is also a hierarchy.  The function will first check if \"Comedy\" is in a movie's list of genres.  If so, its genre will be labeled ONLY \"Comedy,\" and so on and so forth.\n",
        "    - The first (4) genres in the list are from more specific to less specific.\n"
      ]
    },
    {
      "cell_type": "code",
      "execution_count": null,
      "id": "4f2b1f32-0898-4d2b-b115-3f6db8a3667b",
      "metadata": {
        "id": "4f2b1f32-0898-4d2b-b115-3f6db8a3667b"
      },
      "outputs": [],
      "source": [
        "# Labels movies to a single genre.\n",
        "def classify_genre(genres):\n",
        "\n",
        "    # Creates clean list of genres from str of genres.\n",
        "    genres_list = genres.strip().split(',')\n",
        "\n",
        "    # Cleans individual terms.  (Some terms have spaces before or after word and causes bugs in the program.)\n",
        "    for i in range(1, len(genres_list)):\n",
        "        genres_list[i] = genres_list[i].strip()\n",
        "\n",
        "    genre_types = ['Comedy',\n",
        "                   'Action',\n",
        "                   'Horror',\n",
        "                   'Drama',\n",
        "                   'Documentary',\n",
        "                   'Animation',\n",
        "                   'War',\n",
        "                   'Fantasy',\n",
        "                   'Crime',\n",
        "                   'Musical',\n",
        "                   'Adventure',\n",
        "                   'Family',\n",
        "                   'Thriller',\n",
        "                   'Short',\n",
        "                   'Sport',\n",
        "                   'Musical',\n",
        "                   'Music',\n",
        "                   'Romance'\n",
        "                  ]\n",
        "    # Labels movies to a single genre.\n",
        "    for genre_type in genre_types:\n",
        "        if genre_type in genres_list:\n",
        "            return genre_type\n"
      ]
    },
    {
      "cell_type": "markdown",
      "id": "7b920069-c740-4ade-b640-c47d08299cc8",
      "metadata": {
        "id": "7b920069-c740-4ade-b640-c47d08299cc8"
      },
      "source": [
        "#### Step 4) Apply function to \"Genre(s)\" column."
      ]
    },
    {
      "cell_type": "code",
      "execution_count": null,
      "id": "7693d461-a32f-47e4-ae61-826ed1ebd543",
      "metadata": {
        "id": "7693d461-a32f-47e4-ae61-826ed1ebd543"
      },
      "outputs": [],
      "source": [
        "df_genres.reset_index()\n",
        "df_genres_RT.reset_index()\n",
        "\n",
        "df_genres['Genre(s)'] = df_genres['Genre(s)'].apply(str).apply(classify_genre)\n",
        "\n",
        "df_genres_RT['Genre(s)'] = df_genres_RT['Genre(s)'].apply(str).apply(classify_genre)"
      ]
    },
    {
      "cell_type": "code",
      "source": [
        "df_genres['Genre(s)'].value_counts()"
      ],
      "metadata": {
        "id": "ZEuAFbYQJIkx"
      },
      "id": "ZEuAFbYQJIkx",
      "execution_count": null,
      "outputs": []
    },
    {
      "cell_type": "markdown",
      "id": "aa39afdc-b099-472e-8457-977de41a35a8",
      "metadata": {
        "id": "aa39afdc-b099-472e-8457-977de41a35a8"
      },
      "source": [
        "#### Step 5) Group dataset by 'Year' and 'Genre(s)' and calculate means of movie rating metrics."
      ]
    },
    {
      "cell_type": "code",
      "execution_count": null,
      "id": "9b0b63e7-844f-4c35-af25-cefed5b84185",
      "metadata": {
        "id": "9b0b63e7-844f-4c35-af25-cefed5b84185"
      },
      "outputs": [],
      "source": [
        "df_groupby_genres = df_genres.groupby(['Year','Genre(s)']).aggregate(\n",
        "    {'IMDB': 'mean',\n",
        "     'Metacritic': 'mean',\n",
        "     'TMDB': 'mean'\n",
        "    }\n",
        ")\n",
        "\n",
        "df_groupby_genres_RT = df_genres_RT.groupby(['Year','Genre(s)']).aggregate(\n",
        "    {'Rotten Tomatoes': 'mean'}\n",
        ")\n",
        "df_groupby_genres.reset_index().sample(5)"
      ]
    },
    {
      "cell_type": "markdown",
      "id": "76a11cf6-ab2e-42dd-9833-046b11eb633f",
      "metadata": {
        "id": "76a11cf6-ab2e-42dd-9833-046b11eb633f"
      },
      "source": [
        "#### Step 6) Further simplify list of genres displayed.\n",
        "- In order to reduce the list, what are the four most common genres?\n",
        "- Answer: comedy, drama, action, and horror."
      ]
    },
    {
      "cell_type": "code",
      "execution_count": null,
      "id": "bb21f31d-83e4-4ab7-9c90-bf560311132b",
      "metadata": {
        "id": "bb21f31d-83e4-4ab7-9c90-bf560311132b"
      },
      "outputs": [],
      "source": [
        "# Question: What are the most frequent genre(s)?\n",
        "# Answer: Comedy, Drama, Action, and Horror\n",
        "df_genres['Genre(s)'].value_counts()\n"
      ]
    },
    {
      "cell_type": "markdown",
      "id": "da4345a9-f2b1-4ae0-83cf-a481e015cd1b",
      "metadata": {
        "id": "da4345a9-f2b1-4ae0-83cf-a481e015cd1b"
      },
      "source": [
        "#### Step 7) Isolate the (4) genres in the dataset."
      ]
    },
    {
      "cell_type": "code",
      "execution_count": null,
      "id": "965befea-ca37-457c-bac7-c25c63ee8280",
      "metadata": {
        "id": "965befea-ca37-457c-bac7-c25c63ee8280"
      },
      "outputs": [],
      "source": [
        "df_groupby_genres2 = df_groupby_genres.reset_index()\n",
        "df_groupby_genres2 = df_groupby_genres2[\n",
        "    (df_groupby_genres2['Genre(s)'] == 'Drama') |\n",
        "    (df_groupby_genres2['Genre(s)'] == \"Action\") |\n",
        "    (df_groupby_genres2['Genre(s)'] == \"Comedy\") |\n",
        "    (df_groupby_genres2['Genre(s)'] == \"Horror\")\n",
        "]\n",
        "\n",
        "df_groupby_genres_RT_2 = df_groupby_genres_RT.reset_index()\n",
        "df_groupby_genres_RT_2 = df_groupby_genres_RT_2[\n",
        "    (df_groupby_genres_RT_2['Genre(s)'] == 'Drama') |\n",
        "    (df_groupby_genres_RT_2['Genre(s)'] == \"Action\") |\n",
        "    (df_groupby_genres_RT_2['Genre(s)'] == \"Comedy\") |\n",
        "    (df_groupby_genres_RT_2['Genre(s)'] == \"Horror\")\n",
        "]"
      ]
    },
    {
      "cell_type": "markdown",
      "id": "c1f0cd20-dd91-40c1-ad6a-5bf1ff1e1422",
      "metadata": {
        "id": "c1f0cd20-dd91-40c1-ad6a-5bf1ff1e1422"
      },
      "source": [
        "#### Step 8) Plot movie ratings (by genre) per metric per year."
      ]
    },
    {
      "cell_type": "code",
      "execution_count": null,
      "id": "8973ff82-673a-43f0-b7e6-071c99c4bbe6",
      "metadata": {
        "id": "8973ff82-673a-43f0-b7e6-071c99c4bbe6"
      },
      "outputs": [],
      "source": [
        "# Plot IMDB movie ratings by genre per year.\n",
        "\n",
        "fig1 = px.line(\n",
        "    df_groupby_genres2,\n",
        "    x = 'Year',\n",
        "    y = 'IMDB',\n",
        "    color = 'Genre(s)',\n",
        "    title='IMDB Ratings over Time (in years) by Genre',\n",
        "    height = 500\n",
        ")\n",
        "fig1.update_layout(title_x = .5)\n",
        "fig1.show()"
      ]
    },
    {
      "cell_type": "code",
      "execution_count": null,
      "id": "91bfe0c4-634a-4476-b125-beb5b0dcc18b",
      "metadata": {
        "id": "91bfe0c4-634a-4476-b125-beb5b0dcc18b"
      },
      "outputs": [],
      "source": [
        "# Plot RT movie ratings by genre per year.\n",
        "fig2 = px.line(\n",
        "     df_groupby_genres_RT_2,\n",
        "     x = 'Year',\n",
        "     y = 'Rotten Tomatoes',\n",
        "     color = 'Genre(s)',\n",
        "     title='RT Ratings over Time (in years) by Genre',\n",
        "     height = 500\n",
        ")\n",
        "\n",
        "fig2.update_layout(title_x = .5)\n",
        "fig2.show()"
      ]
    },
    {
      "cell_type": "code",
      "execution_count": null,
      "id": "757ab380-24fe-438a-9db9-3a45036e3d00",
      "metadata": {
        "id": "757ab380-24fe-438a-9db9-3a45036e3d00"
      },
      "outputs": [],
      "source": [
        "# Plot Metacritic movie ratings by genre per year.\n",
        "fig3 = px.line(\n",
        "     df_groupby_genres2,\n",
        "     x = 'Year',\n",
        "     y = 'Metacritic',\n",
        "     color = 'Genre(s)',\n",
        "     title='Metacritic Ratings over Time (in years) by Genre ',\n",
        "     height = 500\n",
        ")\n",
        "\n",
        "fig3.update_layout(title_x = .5)\n",
        "fig3.show()"
      ]
    },
    {
      "cell_type": "code",
      "execution_count": null,
      "id": "055f5a31-ea7b-4025-b453-443c5daa3dbf",
      "metadata": {
        "id": "055f5a31-ea7b-4025-b453-443c5daa3dbf"
      },
      "outputs": [],
      "source": [
        "# Plot TMDB movie ratings by genre per year.\n",
        "fig4 = px.line(\n",
        "     df_groupby_genres2,\n",
        "     x = 'Year',\n",
        "     y = 'TMDB',\n",
        "     color = 'Genre(s)',\n",
        "     title='TMDB Ratings over Time (in years) by Genre',\n",
        "     height = 500\n",
        ")\n",
        "\n",
        "fig4.update_layout(title_x = .5)\n",
        "fig4.show()"
      ]
    },
    {
      "cell_type": "markdown",
      "id": "26dcbcd8-af9c-40dd-b1aa-367531c09e47",
      "metadata": {
        "id": "26dcbcd8-af9c-40dd-b1aa-367531c09e47"
      },
      "source": [
        "### C. Total Gross Domestic Box Office Sales (GDBOS) By Year, Adjusted for Inflation"
      ]
    },
    {
      "cell_type": "markdown",
      "id": "fe17dd6a-d8f8-4b97-866f-3c9e65435981",
      "metadata": {
        "id": "fe17dd6a-d8f8-4b97-866f-3c9e65435981"
      },
      "source": [
        "#### Step 1) Drop all movies that have NaN in GDBOS column."
      ]
    },
    {
      "cell_type": "code",
      "execution_count": null,
      "id": "240ddfac-d59b-433e-9f12-43e3643dfbdf",
      "metadata": {
        "id": "240ddfac-d59b-433e-9f12-43e3643dfbdf"
      },
      "outputs": [],
      "source": [
        "df_GDBOS = df.dropna(subset=['Gross Domestic Box Office Sales ($)'])\n",
        "\n",
        "print(f'A total of {df.shape[0]-df_GDBOS.shape[0]} movies were removed.')"
      ]
    },
    {
      "cell_type": "markdown",
      "id": "0b40f64d-7cef-4d84-b168-97857c949183",
      "metadata": {
        "id": "0b40f64d-7cef-4d84-b168-97857c949183"
      },
      "source": [
        "#### Step 2) Group movies by year and sum the GDBOS for each movie in that year."
      ]
    },
    {
      "cell_type": "code",
      "execution_count": null,
      "id": "c83921d5-a1b0-4a8a-93c9-3eab3da5a3b1",
      "metadata": {
        "id": "c83921d5-a1b0-4a8a-93c9-3eab3da5a3b1"
      },
      "outputs": [],
      "source": [
        "\n",
        "df_GDBOS_by_year = df_GDBOS.groupby('Year')['Gross Domestic Box Office Sales ($)'].sum().reset_index()\n",
        "df_GDBOS_by_year.sample(1)"
      ]
    },
    {
      "cell_type": "markdown",
      "id": "63ff4309-f84a-48d6-bad7-6466979906e2",
      "metadata": {
        "id": "63ff4309-f84a-48d6-bad7-6466979906e2"
      },
      "source": [
        "#### Step 3)\n",
        "- Create function to calculate inflation and convert USD in given a year to the USD in 2023.\n",
        "- Apply function to dataset."
      ]
    },
    {
      "cell_type": "code",
      "execution_count": null,
      "id": "55b036bb-c236-4259-8709-f9c517f82bb7",
      "metadata": {
        "id": "55b036bb-c236-4259-8709-f9c517f82bb7"
      },
      "outputs": [],
      "source": [
        "# Define function to convert the GDBOS for a year and calculate the USD value in year 2023.\n",
        "ANNUAL_INFLATION_RATE = .04\n",
        "LAST_YEAR = 2023\n",
        "\n",
        "def get_today_GDBOS(row):\n",
        "  release_year = row['Year']\n",
        "  years_elapsed = LAST_YEAR - release_year\n",
        "  release_year_GDBOS = row['Gross Domestic Box Office Sales ($)']\n",
        "\n",
        "  # Returns USD value in 2023 using the formula T = P[(1+r)**n - 1] where:\n",
        "  # T = USD value in 2023\n",
        "  # P = USD value at year of movie release\n",
        "  # r = average annual inflation rate\n",
        "  # n = number of years elapsed\n",
        "  return release_year_GDBOS * (((1 + ANNUAL_INFLATION_RATE) ** years_elapsed)-1)\n",
        "\n",
        "# Apply function to calculate USD value (in 2023) for total GDBOS by year\n",
        "df_GDBOS_by_year_with_inflation = df_GDBOS_by_year.copy()\n",
        "df_GDBOS_by_year_with_inflation['Gross Domestic Box Office Sales ($)'] = df_GDBOS_by_year.apply(get_today_GDBOS, 1)\n",
        "df_GDBOS_by_year_with_inflation.rename(columns={'Gross Domestic Box Office Sales ($)': 'Total GDBOS ($ in 2023)'}, inplace=True)\n",
        "df_GDBOS_by_year_with_inflation.sample(5)"
      ]
    },
    {
      "cell_type": "markdown",
      "id": "34a3c9a4-0cbc-4d3b-8ce4-53c5c3c54a3f",
      "metadata": {
        "id": "34a3c9a4-0cbc-4d3b-8ce4-53c5c3c54a3f"
      },
      "source": [
        "#### Step 4) Plot bar graph displaying total GDBOS by year, adjusted for inflation through year 2023."
      ]
    },
    {
      "cell_type": "code",
      "execution_count": null,
      "id": "900fb184-546a-4544-b56c-402e0af93008",
      "metadata": {
        "id": "900fb184-546a-4544-b56c-402e0af93008"
      },
      "outputs": [],
      "source": [
        "# Create bar graph displaying the total GDBOS by year, adjusted for inflation through year 2023.\n",
        "fig = px.bar(\n",
        "    df_GDBOS_by_year_with_inflation,\n",
        "    x = 'Year',\n",
        "    y = 'Total GDBOS ($ in 2023)',\n",
        "    title = 'Gross Domestic Box Office Sales by Year, Adjusted for Inflation through 2023'\n",
        ")\n",
        "fig.show()"
      ]
    },
    {
      "cell_type": "code",
      "source": [
        "#Start - Joel Work\n",
        "#Calculating  Medians, standard deviations, maxes and graphing them\n",
        "\n",
        "#Estalish the year range\n",
        "years = range(1977,2015)\n",
        "median_IMDb = df['IMDB'].median()\n",
        "std_IMDB = df['IMDB'].std()\n",
        "\n",
        "\n",
        "df_yearly = pd.DataFrame(years, columns = ['Year'])\n",
        "imdb_arr, rt_arr, mc_arr, tmdb_arr = [], [], [], []\n",
        "imdb_med, rt_med, mc_med, tmdb_med = [], [], [], []\n",
        "imdb_std, rt_std, mc_std, tmdb_std = [], [], [], []\n",
        "\n",
        "#RT was a string, converting it to float in place\n",
        "df['Rotten Tomatoes'] = pd.to_numeric(df['Rotten Tomatoes'])\n",
        "print(df['Rotten Tomatoes'].head(10))\n",
        "for i in years:\n",
        "    imdb_arr.append(df[df['Year'] == i]['IMDB'].max())\n",
        "    imdb_med.append(df[df['Year'] == i]['IMDB'].median())\n",
        "    imdb_std.append(df[df['Year'] == i]['IMDB'].std())\n",
        "\n",
        "\n",
        "    rt_arr.append(df[df['Year'] == i]['Rotten Tomatoes'].max()/10)\n",
        "    rt_med.append(df[df['Year'] == i]['Rotten Tomatoes'].median()/10)\n",
        "    rt_std.append(df[df['Year'] == i]['Rotten Tomatoes'].std()/10)\n",
        "\n",
        "\n",
        "    mc_arr.append(df[df['Year'] == i]['Metacritic'].max()/10)\n",
        "    mc_med.append(df[df['Year'] == i]['Metacritic'].median()/10)\n",
        "    mc_std.append(df[df['Year'] == i]['Metacritic'].std()/10)\n",
        "\n",
        "\n",
        "    tmdb_arr.append(df[df['Year'] == i]['TMDB'].max())\n",
        "    tmdb_med.append(df[df['Year'] == i]['TMDB'].median())\n",
        "    tmdb_std.append(df[df['Year'] == i]['TMDB'].std())\n",
        "\n",
        "data_max = {'Year':years, 'IMDB':imdb_arr, 'Metacritic': mc_arr, 'TMDB': tmdb_arr, 'Rotten Tomatoes': rt_arr}\n",
        "\n",
        "\n",
        "print(median_IMDb)\n",
        "print(median_IMDb + 3* std_IMDB)\n",
        "df_max = pd.DataFrame(data_max)"
      ],
      "metadata": {
        "id": "wn7cHlGWk84S"
      },
      "id": "wn7cHlGWk84S",
      "execution_count": null,
      "outputs": []
    },
    {
      "cell_type": "code",
      "source": [
        "#What do the 3.0 Z-scores look like? (3 standard deviations out)\n",
        "print(np.array(imdb_med) + 3*np.array(imdb_std))\n",
        "print(np.array(rt_med) + 3*np.array(rt_std))\n",
        "print(np.array(mc_med) + 3*np.array(mc_std))\n",
        "print(np.array(tmdb_med) + 3*np.array(tmdb_std))"
      ],
      "metadata": {
        "id": "lLG4DmerlcPl"
      },
      "id": "lLG4DmerlcPl",
      "execution_count": null,
      "outputs": []
    },
    {
      "cell_type": "code",
      "source": [
        "fig5 = px.line(\n",
        "    df_max.reset_index(),\n",
        "    x = 'Year',\n",
        "    y = ['IMDB', 'TMDB', 'Metacritic', 'Rotten Tomatoes'],\n",
        "    title='Top Yearly Rating'\n",
        ")\n",
        "fig5.show()"
      ],
      "metadata": {
        "id": "GXP0kF5XlsFv"
      },
      "id": "GXP0kF5XlsFv",
      "execution_count": null,
      "outputs": []
    },
    {
      "cell_type": "code",
      "source": [
        "data_med = {'Year':years, 'IMDB':imdb_med, 'Metacritic': mc_med, 'TMDB': tmdb_med, 'Rotten Tomatoes': rt_med}\n",
        "\n",
        "df_med = pd.DataFrame(data_med)\n",
        "\n",
        "fig6 = px.line(\n",
        "    df_med.reset_index(),\n",
        "    x = 'Year',\n",
        "    y = ['IMDB', 'TMDB', 'Metacritic', 'Rotten Tomatoes'],\n",
        "    title='Median Yearly Rating'\n",
        ")\n",
        "fig6.show()"
      ],
      "metadata": {
        "id": "KMtvoS_Yl0W9"
      },
      "id": "KMtvoS_Yl0W9",
      "execution_count": null,
      "outputs": []
    },
    {
      "cell_type": "code",
      "source": [
        "fig = px.bar(\n",
        "    df,\n",
        "    x = 'Year',\n",
        "    y = 'Total GDBOS ($ in 2023)',\n",
        "    title = 'Count of Scores'\n",
        ")"
      ],
      "metadata": {
        "id": "IEcAt2kSl1NJ"
      },
      "id": "IEcAt2kSl1NJ",
      "execution_count": null,
      "outputs": []
    },
    {
      "cell_type": "code",
      "source": [
        "df.head()"
      ],
      "metadata": {
        "id": "IiVaUOlMq8Of"
      },
      "id": "IiVaUOlMq8Of",
      "execution_count": null,
      "outputs": []
    },
    {
      "cell_type": "code",
      "source": [
        "df_count_imdb = []\n",
        "df_count_imdb =df['IMDB'].copy().value_counts()"
      ],
      "metadata": {
        "id": "x_j29syKrgmB"
      },
      "id": "x_j29syKrgmB",
      "execution_count": null,
      "outputs": []
    },
    {
      "cell_type": "markdown",
      "source": [],
      "metadata": {
        "id": "h6bgz87vtJLj"
      },
      "id": "h6bgz87vtJLj"
    },
    {
      "cell_type": "code",
      "source": [
        "df_count_imdb.sort_index().plot()\n",
        "plt.show()"
      ],
      "metadata": {
        "id": "zBwUn4Ous4QH"
      },
      "id": "zBwUn4Ous4QH",
      "execution_count": null,
      "outputs": []
    },
    {
      "cell_type": "code",
      "source": [
        "df_count_tmdb = []\n",
        "df_count_tmdb =df['TMDB'].copy().value_counts()\n",
        "df_count_tmdb.sort_index().plot()\n",
        "plt.show()"
      ],
      "metadata": {
        "id": "wwci7wA7s-mT"
      },
      "id": "wwci7wA7s-mT",
      "execution_count": null,
      "outputs": []
    },
    {
      "cell_type": "code",
      "source": [
        "#End - Joel work"
      ],
      "metadata": {
        "id": "oz-AJSED_jYv"
      },
      "id": "oz-AJSED_jYv",
      "execution_count": null,
      "outputs": []
    },
    {
      "cell_type": "markdown",
      "source": [
        "Brian: Ratings by Academy awards status"
      ],
      "metadata": {
        "id": "HRUDecBUFzWB"
      },
      "id": "HRUDecBUFzWB"
    },
    {
      "cell_type": "code",
      "source": [
        "tab1 = df_final[df_final.nominations>0].groupby('Year').aggregate('IMDB').mean()\n",
        "tab2 = df_final[df_final.wins>0].groupby('Year').aggregate('IMDB').mean()\n",
        "tab3 = df_final[df_final.big5nom>0].groupby('Year').aggregate('IMDB').mean()\n",
        "tab4 = df_final[df_final.big5win>0].groupby('Year').aggregate('IMDB').mean()\n",
        "tab5 = df_final.groupby('Year').aggregate('IMDB').mean()\n",
        "\n",
        "tab_IMDB = pd.concat([tab5, tab1, tab2, tab3, tab4], axis=1)\n",
        "tab_IMDB.columns = ['All Movies', 'Oscar Nomination', 'Oscar Win', 'Big 5 Nomination', 'Big 5 Win']\n",
        "\n",
        "tab1 = df_final[df_final.nominations>0].groupby('Year').aggregate('TMDB').mean()\n",
        "tab2 = df_final[df_final.wins>0].groupby('Year').aggregate('TMDB').mean()\n",
        "tab3 = df_final[df_final.big5nom>0].groupby('Year').aggregate('TMDB').mean()\n",
        "tab4 = df_final[df_final.big5win>0].groupby('Year').aggregate('TMDB').mean()\n",
        "tab5 = df_final.groupby('Year').aggregate('TMDB').mean()\n",
        "\n",
        "tab_TMDB = pd.concat([tab5, tab1, tab2, tab3, tab4], axis=1)\n",
        "tab_TMDB.columns = ['All Movies', 'Oscar Nomination', 'Oscar Win', 'Big 5 Nomination', 'Big 5 Win']\n",
        "\n",
        "tab1 = df_final[df_final.nominations>0].groupby('Year').aggregate('Rotten_tom').mean()\n",
        "tab2 = df_final[df_final.wins>0].groupby('Year').aggregate('Rotten_tom').mean()\n",
        "tab3 = df_final[df_final.big5nom>0].groupby('Year').aggregate('Rotten_tom').mean()\n",
        "tab4 = df_final[df_final.big5win>0].groupby('Year').aggregate('Rotten_tom').mean()\n",
        "tab5 = df_final.groupby('Year').aggregate('Rotten_tom').mean()\n",
        "\n",
        "tab_RT = pd.concat([tab5, tab1, tab2, tab3, tab4], axis=1)\n",
        "tab_RT.columns = ['All Movies', 'Oscar Nomination', 'Oscar Win', 'Big 5 Nomination', 'Big 5 Win']\n",
        "\n",
        "tab1 = df_final[df_final.nominations>0].groupby('Year').aggregate('Metacritic').mean()\n",
        "tab2 = df_final[df_final.wins>0].groupby('Year').aggregate('Metacritic').mean()\n",
        "tab3 = df_final[df_final.big5nom>0].groupby('Year').aggregate('Metacritic').mean()\n",
        "tab4 = df_final[df_final.big5win>0].groupby('Year').aggregate('Metacritic').mean()\n",
        "tab5 = df_final.groupby('Year').aggregate('Metacritic').mean()\n",
        "\n",
        "tab_Meta = pd.concat([tab5, tab1, tab2, tab3, tab4], axis=1)\n",
        "tab_Meta.columns = ['All Movies', 'Oscar Nomination', 'Oscar Win', 'Big 5 Nomination', 'Big 5 Win']"
      ],
      "metadata": {
        "id": "ijsUEUK8Fipe"
      },
      "id": "ijsUEUK8Fipe",
      "execution_count": null,
      "outputs": []
    },
    {
      "cell_type": "code",
      "source": [
        "# Create plot of different rating systems TMDB, IMDB, Rotten Tomatoes, and Metacritic\n",
        "# Also inserted sum of missing values into each plot\n",
        "\n",
        "fig, axs = plt.subplots(2, 2, figsize=(15, 8))\n",
        "tf = 18\n",
        "fig.suptitle('Rating by Year and Oscar Status', fontsize=24)\n",
        "\n",
        "\n",
        "axs[0, 0].plot(tab_TMDB)\n",
        "axs[0, 0].set_title('TMDB', fontsize=tf)\n",
        "#axs[0, 0].set_xticks(np.arange(0, 11, 1))\n",
        "#axs[0, 0].set_xticklabels(np.arange(0, 11, 1), fontsize=12)\n",
        "axs[0, 0].set_yticks(np.arange(5, 11, 1))\n",
        "axs[0, 0].set_yticklabels(np.arange(5, 11, 1), fontsize=12)\n",
        "axs[0, 0].set_xlabel('Year', fontsize=12)\n",
        "\n",
        "axs[0, 1].plot(tab_IMDB)\n",
        "axs[0, 1].set_title('IMDB', fontsize=tf)\n",
        "axs[0, 1].set_yticks(np.arange(5, 11, 1))\n",
        "axs[0, 1].set_yticklabels(np.arange(5, 11, 1), fontsize=12)\n",
        "axs[0, 1].set_xlabel('Year', fontsize=12)\n",
        "\n",
        "axs[1, 0].plot(tab_RT)\n",
        "axs[1, 0].set_title('Rotten Tomatoes', fontsize=tf)\n",
        "axs[1, 0].set_yticks(np.arange(50, 101, 10))\n",
        "axs[1, 0].set_yticklabels(np.arange(50, 101, 10), fontsize=12)\n",
        "axs[1, 0].set_xlabel('Year', fontsize=12)\n",
        "\n",
        "axs[1, 1].plot(tab_Meta)\n",
        "axs[1, 1].set_title('Metacritic', fontsize=tf)\n",
        "axs[1, 1].set_yticks(np.arange(50, 101, 10))\n",
        "axs[1, 1].set_yticklabels(np.arange(50, 101, 10), fontsize=12)\n",
        "axs[1, 1].set_xlabel('Year', fontsize=12)\n",
        "\n",
        "fig.legend(tab_TMDB, loc='lower center', ncol=5)\n",
        "#plt.tight_layout()\n",
        "plt.tight_layout(pad=1)\n",
        "plt.subplots_adjust(bottom=0.1)\n",
        "plt.show()"
      ],
      "metadata": {
        "id": "7HbcY_Q3NfTW"
      },
      "id": "7HbcY_Q3NfTW",
      "execution_count": null,
      "outputs": []
    },
    {
      "cell_type": "code",
      "source": [
        "### See if new dataset has all movies"
      ],
      "metadata": {
        "id": "tO0PQpwDf2TB"
      },
      "id": "tO0PQpwDf2TB",
      "execution_count": null,
      "outputs": []
    },
    {
      "cell_type": "code",
      "source": [
        "df_mov = pd.read_csv('movies_metadata.csv')\n",
        "df_mov.head()"
      ],
      "metadata": {
        "id": "ZBgOe2Whf2fv"
      },
      "id": "ZBgOe2Whf2fv",
      "execution_count": null,
      "outputs": []
    },
    {
      "cell_type": "code",
      "source": [
        "df_mov.shape"
      ],
      "metadata": {
        "id": "ssrtkVp3f2i4"
      },
      "id": "ssrtkVp3f2i4",
      "execution_count": null,
      "outputs": []
    },
    {
      "cell_type": "code",
      "source": [
        "df_mov.dtypes"
      ],
      "metadata": {
        "id": "lpGDche3f2lw"
      },
      "id": "lpGDche3f2lw",
      "execution_count": null,
      "outputs": []
    },
    {
      "cell_type": "code",
      "source": [
        "df_mov.release_date2 = pd.to_datetime(df_mov.release_date, errors='coerce')\n",
        "df_mov['Year'] = df_mov.release_date2.dt.year"
      ],
      "metadata": {
        "id": "MgJqaXB-f2oW"
      },
      "id": "MgJqaXB-f2oW",
      "execution_count": null,
      "outputs": []
    },
    {
      "cell_type": "code",
      "source": [
        "df_mov.release_date[df_mov.release_date2.isna() & df_mov.release_date.notna()]"
      ],
      "metadata": {
        "id": "ytTjEBaziHVb"
      },
      "id": "ytTjEBaziHVb",
      "execution_count": null,
      "outputs": []
    },
    {
      "cell_type": "code",
      "source": [
        "plt.hist(df_mov.Year, bins=np.arange(1965, 2030))"
      ],
      "metadata": {
        "id": "tlpJ-VSViHY3"
      },
      "id": "tlpJ-VSViHY3",
      "execution_count": null,
      "outputs": []
    },
    {
      "cell_type": "markdown",
      "id": "5b93c42b-820e-48fc-9b23-8626b554b3bf",
      "metadata": {
        "id": "5b93c42b-820e-48fc-9b23-8626b554b3bf"
      },
      "source": [
        "# TO DO:\n",
        "\n",
        "- Add annotations showing why lack of data from 2014 on.\n",
        "- Add meaningful annotations to all graphs.\n",
        "- Finding which movies were removed from dataset may explain this.\n",
        "- Also, keep in mind streaming services became very popular around 2018, and these movies do not have GDBOS.\n",
        "- See notes in write up"
      ]
    },
    {
      "cell_type": "code",
      "execution_count": null,
      "id": "9d10a0e8-851f-418d-a523-cbd404bf0fdf",
      "metadata": {
        "id": "9d10a0e8-851f-418d-a523-cbd404bf0fdf"
      },
      "outputs": [],
      "source": []
    }
  ],
  "metadata": {
    "kernelspec": {
      "display_name": "Python 3 (ipykernel)",
      "language": "python",
      "name": "python3"
    },
    "language_info": {
      "codemirror_mode": {
        "name": "ipython",
        "version": 3
      },
      "file_extension": ".py",
      "mimetype": "text/x-python",
      "name": "python",
      "nbconvert_exporter": "python",
      "pygments_lexer": "ipython3",
      "version": "3.12.4"
    },
    "colab": {
      "provenance": []
    }
  },
  "nbformat": 4,
  "nbformat_minor": 5
}